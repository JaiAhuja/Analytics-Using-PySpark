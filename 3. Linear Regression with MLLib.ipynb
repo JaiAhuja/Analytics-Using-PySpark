{
 "cells": [
  {
   "cell_type": "code",
   "execution_count": 1,
   "id": "98a1271c",
   "metadata": {},
   "outputs": [],
   "source": [
    "import findspark\n",
    "findspark.init()\n",
    "findspark.find()\n",
    "import pyspark\n",
    "\n",
    "import os\n",
    "import functools as reduce\n",
    "from pyspark.context import SparkContext\n",
    "from pyspark.sql import DataFrame, SQLContext, SparkSession, Window\n",
    "from pyspark.sql.functions import *\n",
    "from pyspark.sql.types import *\n",
    "\n",
    "conf = pyspark.SparkConf().setAppName('MLLib-Linear Regression').setMaster('local')\n",
    "sc = pyspark.SparkContext(conf = conf)\n",
    "spark = SparkSession(sc)\n",
    "sqlContext = SQLContext(sc)"
   ]
  },
  {
   "cell_type": "code",
   "execution_count": 2,
   "id": "473857a9",
   "metadata": {},
   "outputs": [
    {
     "data": {
      "text/html": [
       "\n",
       "            <div>\n",
       "                <p><b>SparkSession - in-memory</b></p>\n",
       "                \n",
       "        <div>\n",
       "            <p><b>SparkContext</b></p>\n",
       "\n",
       "            <p><a href=\"http://Jai-Ahuja:4041\">Spark UI</a></p>\n",
       "\n",
       "            <dl>\n",
       "              <dt>Version</dt>\n",
       "                <dd><code>v3.1.2</code></dd>\n",
       "              <dt>Master</dt>\n",
       "                <dd><code>local</code></dd>\n",
       "              <dt>AppName</dt>\n",
       "                <dd><code>MLLib-Linear Regression</code></dd>\n",
       "            </dl>\n",
       "        </div>\n",
       "        \n",
       "            </div>\n",
       "        "
      ],
      "text/plain": [
       "<pyspark.sql.session.SparkSession at 0x18724e77b50>"
      ]
     },
     "execution_count": 2,
     "metadata": {},
     "output_type": "execute_result"
    }
   ],
   "source": [
    "spark"
   ]
  },
  {
   "cell_type": "code",
   "execution_count": 3,
   "id": "8ed689b9",
   "metadata": {},
   "outputs": [],
   "source": [
    "# Importing relevant libraries\n",
    "from sklearn import datasets\n",
    "from pyspark.ml.regression import LinearRegression\n",
    "from pyspark.ml.feature import VectorAssembler, StringIndexer\n",
    "import numpy as np\n",
    "import pandas as pd\n",
    "import matplotlib.pyplot as plt\n",
    "%matplotlib inline"
   ]
  },
  {
   "cell_type": "code",
   "execution_count": 4,
   "id": "70df25cd",
   "metadata": {},
   "outputs": [
    {
     "data": {
      "text/html": [
       "<div>\n",
       "<style scoped>\n",
       "    .dataframe tbody tr th:only-of-type {\n",
       "        vertical-align: middle;\n",
       "    }\n",
       "\n",
       "    .dataframe tbody tr th {\n",
       "        vertical-align: top;\n",
       "    }\n",
       "\n",
       "    .dataframe thead th {\n",
       "        text-align: right;\n",
       "    }\n",
       "</style>\n",
       "<table border=\"1\" class=\"dataframe\">\n",
       "  <thead>\n",
       "    <tr style=\"text-align: right;\">\n",
       "      <th></th>\n",
       "      <th>CRIM</th>\n",
       "      <th>ZN</th>\n",
       "      <th>INDUS</th>\n",
       "      <th>CHAS</th>\n",
       "      <th>NOX</th>\n",
       "      <th>RM</th>\n",
       "      <th>AGE</th>\n",
       "      <th>DIS</th>\n",
       "      <th>RAD</th>\n",
       "      <th>TAX</th>\n",
       "      <th>PTRATIO</th>\n",
       "      <th>B</th>\n",
       "      <th>LSTAT</th>\n",
       "      <th>price</th>\n",
       "    </tr>\n",
       "  </thead>\n",
       "  <tbody>\n",
       "    <tr>\n",
       "      <th>0</th>\n",
       "      <td>0.00632</td>\n",
       "      <td>18.0</td>\n",
       "      <td>2.31</td>\n",
       "      <td>0.0</td>\n",
       "      <td>0.538</td>\n",
       "      <td>6.575</td>\n",
       "      <td>65.2</td>\n",
       "      <td>4.0900</td>\n",
       "      <td>1.0</td>\n",
       "      <td>296.0</td>\n",
       "      <td>15.3</td>\n",
       "      <td>396.90</td>\n",
       "      <td>4.98</td>\n",
       "      <td>24.0</td>\n",
       "    </tr>\n",
       "    <tr>\n",
       "      <th>1</th>\n",
       "      <td>0.02731</td>\n",
       "      <td>0.0</td>\n",
       "      <td>7.07</td>\n",
       "      <td>0.0</td>\n",
       "      <td>0.469</td>\n",
       "      <td>6.421</td>\n",
       "      <td>78.9</td>\n",
       "      <td>4.9671</td>\n",
       "      <td>2.0</td>\n",
       "      <td>242.0</td>\n",
       "      <td>17.8</td>\n",
       "      <td>396.90</td>\n",
       "      <td>9.14</td>\n",
       "      <td>21.6</td>\n",
       "    </tr>\n",
       "    <tr>\n",
       "      <th>2</th>\n",
       "      <td>0.02729</td>\n",
       "      <td>0.0</td>\n",
       "      <td>7.07</td>\n",
       "      <td>0.0</td>\n",
       "      <td>0.469</td>\n",
       "      <td>7.185</td>\n",
       "      <td>61.1</td>\n",
       "      <td>4.9671</td>\n",
       "      <td>2.0</td>\n",
       "      <td>242.0</td>\n",
       "      <td>17.8</td>\n",
       "      <td>392.83</td>\n",
       "      <td>4.03</td>\n",
       "      <td>34.7</td>\n",
       "    </tr>\n",
       "    <tr>\n",
       "      <th>3</th>\n",
       "      <td>0.03237</td>\n",
       "      <td>0.0</td>\n",
       "      <td>2.18</td>\n",
       "      <td>0.0</td>\n",
       "      <td>0.458</td>\n",
       "      <td>6.998</td>\n",
       "      <td>45.8</td>\n",
       "      <td>6.0622</td>\n",
       "      <td>3.0</td>\n",
       "      <td>222.0</td>\n",
       "      <td>18.7</td>\n",
       "      <td>394.63</td>\n",
       "      <td>2.94</td>\n",
       "      <td>33.4</td>\n",
       "    </tr>\n",
       "    <tr>\n",
       "      <th>4</th>\n",
       "      <td>0.06905</td>\n",
       "      <td>0.0</td>\n",
       "      <td>2.18</td>\n",
       "      <td>0.0</td>\n",
       "      <td>0.458</td>\n",
       "      <td>7.147</td>\n",
       "      <td>54.2</td>\n",
       "      <td>6.0622</td>\n",
       "      <td>3.0</td>\n",
       "      <td>222.0</td>\n",
       "      <td>18.7</td>\n",
       "      <td>396.90</td>\n",
       "      <td>5.33</td>\n",
       "      <td>36.2</td>\n",
       "    </tr>\n",
       "  </tbody>\n",
       "</table>\n",
       "</div>"
      ],
      "text/plain": [
       "      CRIM    ZN  INDUS  CHAS    NOX     RM   AGE     DIS  RAD    TAX  \\\n",
       "0  0.00632  18.0   2.31   0.0  0.538  6.575  65.2  4.0900  1.0  296.0   \n",
       "1  0.02731   0.0   7.07   0.0  0.469  6.421  78.9  4.9671  2.0  242.0   \n",
       "2  0.02729   0.0   7.07   0.0  0.469  7.185  61.1  4.9671  2.0  242.0   \n",
       "3  0.03237   0.0   2.18   0.0  0.458  6.998  45.8  6.0622  3.0  222.0   \n",
       "4  0.06905   0.0   2.18   0.0  0.458  7.147  54.2  6.0622  3.0  222.0   \n",
       "\n",
       "   PTRATIO       B  LSTAT  price  \n",
       "0     15.3  396.90   4.98   24.0  \n",
       "1     17.8  396.90   9.14   21.6  \n",
       "2     17.8  392.83   4.03   34.7  \n",
       "3     18.7  394.63   2.94   33.4  \n",
       "4     18.7  396.90   5.33   36.2  "
      ]
     },
     "execution_count": 4,
     "metadata": {},
     "output_type": "execute_result"
    }
   ],
   "source": [
    "boston = datasets.load_boston()\n",
    "\n",
    "df = pd.DataFrame(boston.data, columns=boston.feature_names)\n",
    "df['price'] = boston.target\n",
    "df.head()"
   ]
  },
  {
   "cell_type": "code",
   "execution_count": 5,
   "id": "138ea10d",
   "metadata": {},
   "outputs": [
    {
     "name": "stdout",
     "output_type": "stream",
     "text": [
      "+-------+----+-----+----+-----+-----+-----+------+---+-----+-------+------+-----+-----+\n",
      "|CRIM   |ZN  |INDUS|CHAS|NOX  |RM   |AGE  |DIS   |RAD|TAX  |PTRATIO|B     |LSTAT|price|\n",
      "+-------+----+-----+----+-----+-----+-----+------+---+-----+-------+------+-----+-----+\n",
      "|0.00632|18.0|2.31 |0.0 |0.538|6.575|65.2 |4.09  |1.0|296.0|15.3   |396.9 |4.98 |24.0 |\n",
      "|0.02731|0.0 |7.07 |0.0 |0.469|6.421|78.9 |4.9671|2.0|242.0|17.8   |396.9 |9.14 |21.6 |\n",
      "|0.02729|0.0 |7.07 |0.0 |0.469|7.185|61.1 |4.9671|2.0|242.0|17.8   |392.83|4.03 |34.7 |\n",
      "|0.03237|0.0 |2.18 |0.0 |0.458|6.998|45.8 |6.0622|3.0|222.0|18.7   |394.63|2.94 |33.4 |\n",
      "|0.06905|0.0 |2.18 |0.0 |0.458|7.147|54.2 |6.0622|3.0|222.0|18.7   |396.9 |5.33 |36.2 |\n",
      "|0.02985|0.0 |2.18 |0.0 |0.458|6.43 |58.7 |6.0622|3.0|222.0|18.7   |394.12|5.21 |28.7 |\n",
      "|0.08829|12.5|7.87 |0.0 |0.524|6.012|66.6 |5.5605|5.0|311.0|15.2   |395.6 |12.43|22.9 |\n",
      "|0.14455|12.5|7.87 |0.0 |0.524|6.172|96.1 |5.9505|5.0|311.0|15.2   |396.9 |19.15|27.1 |\n",
      "|0.21124|12.5|7.87 |0.0 |0.524|5.631|100.0|6.0821|5.0|311.0|15.2   |386.63|29.93|16.5 |\n",
      "|0.17004|12.5|7.87 |0.0 |0.524|6.004|85.9 |6.5921|5.0|311.0|15.2   |386.71|17.1 |18.9 |\n",
      "|0.22489|12.5|7.87 |0.0 |0.524|6.377|94.3 |6.3467|5.0|311.0|15.2   |392.52|20.45|15.0 |\n",
      "|0.11747|12.5|7.87 |0.0 |0.524|6.009|82.9 |6.2267|5.0|311.0|15.2   |396.9 |13.27|18.9 |\n",
      "|0.09378|12.5|7.87 |0.0 |0.524|5.889|39.0 |5.4509|5.0|311.0|15.2   |390.5 |15.71|21.7 |\n",
      "|0.62976|0.0 |8.14 |0.0 |0.538|5.949|61.8 |4.7075|4.0|307.0|21.0   |396.9 |8.26 |20.4 |\n",
      "|0.63796|0.0 |8.14 |0.0 |0.538|6.096|84.5 |4.4619|4.0|307.0|21.0   |380.02|10.26|18.2 |\n",
      "|0.62739|0.0 |8.14 |0.0 |0.538|5.834|56.5 |4.4986|4.0|307.0|21.0   |395.62|8.47 |19.9 |\n",
      "|1.05393|0.0 |8.14 |0.0 |0.538|5.935|29.3 |4.4986|4.0|307.0|21.0   |386.85|6.58 |23.1 |\n",
      "|0.7842 |0.0 |8.14 |0.0 |0.538|5.99 |81.7 |4.2579|4.0|307.0|21.0   |386.75|14.67|17.5 |\n",
      "|0.80271|0.0 |8.14 |0.0 |0.538|5.456|36.6 |3.7965|4.0|307.0|21.0   |288.99|11.69|20.2 |\n",
      "|0.7258 |0.0 |8.14 |0.0 |0.538|5.727|69.5 |3.7965|4.0|307.0|21.0   |390.95|11.28|18.2 |\n",
      "+-------+----+-----+----+-----+-----+-----+------+---+-----+-------+------+-----+-----+\n",
      "only showing top 20 rows\n",
      "\n"
     ]
    }
   ],
   "source": [
    "sdf = spark.createDataFrame(df)\n",
    "sdf.show(truncate = False)"
   ]
  },
  {
   "cell_type": "code",
   "execution_count": 6,
   "id": "69a12479",
   "metadata": {},
   "outputs": [
    {
     "name": "stdout",
     "output_type": "stream",
     "text": [
      "+-------+----+-----+----+-----+-----+----+------+---+-----+-------+------+-----+-----+\n",
      "|CRIM   |ZN  |INDUS|CHAS|NOX  |RM   |AGE |DIS   |RAD|TAX  |PTRATIO|B     |LSTAT|price|\n",
      "+-------+----+-----+----+-----+-----+----+------+---+-----+-------+------+-----+-----+\n",
      "|0.00632|18.0|2.31 |0.0 |0.538|6.575|65.2|4.09  |1.0|296.0|15.3   |396.9 |4.98 |24.0 |\n",
      "|0.02731|0.0 |7.07 |0.0 |0.469|6.421|78.9|4.9671|2.0|242.0|17.8   |396.9 |9.14 |21.6 |\n",
      "|0.02729|0.0 |7.07 |0.0 |0.469|7.185|61.1|4.9671|2.0|242.0|17.8   |392.83|4.03 |34.7 |\n",
      "|0.03237|0.0 |2.18 |0.0 |0.458|6.998|45.8|6.0622|3.0|222.0|18.7   |394.63|2.94 |33.4 |\n",
      "|0.06905|0.0 |2.18 |0.0 |0.458|7.147|54.2|6.0622|3.0|222.0|18.7   |396.9 |5.33 |36.2 |\n",
      "+-------+----+-----+----+-----+-----+----+------+---+-----+-------+------+-----+-----+\n",
      "only showing top 5 rows\n",
      "\n"
     ]
    }
   ],
   "source": [
    "assembler = VectorAssembler(inputCols=[c for c in sdf.columns if c != \"price\"],\n",
    "                           outputCol=\"features\")\n",
    "dataset = assembler.transform(sdf)\n",
    "sdf.show(5, truncate=False)"
   ]
  },
  {
   "cell_type": "code",
   "execution_count": 7,
   "id": "76dd69de",
   "metadata": {},
   "outputs": [
    {
     "name": "stdout",
     "output_type": "stream",
     "text": [
      "+----------------------------------------------------------------------------+\n",
      "|features                                                                    |\n",
      "+----------------------------------------------------------------------------+\n",
      "|[0.00632,18.0,2.31,0.0,0.538,6.575,65.2,4.09,1.0,296.0,15.3,396.9,4.98]     |\n",
      "|[0.02731,0.0,7.07,0.0,0.469,6.421,78.9,4.9671,2.0,242.0,17.8,396.9,9.14]    |\n",
      "|[0.02729,0.0,7.07,0.0,0.469,7.185,61.1,4.9671,2.0,242.0,17.8,392.83,4.03]   |\n",
      "|[0.03237,0.0,2.18,0.0,0.458,6.998,45.8,6.0622,3.0,222.0,18.7,394.63,2.94]   |\n",
      "|[0.06905,0.0,2.18,0.0,0.458,7.147,54.2,6.0622,3.0,222.0,18.7,396.9,5.33]    |\n",
      "|[0.02985,0.0,2.18,0.0,0.458,6.43,58.7,6.0622,3.0,222.0,18.7,394.12,5.21]    |\n",
      "|[0.08829,12.5,7.87,0.0,0.524,6.012,66.6,5.5605,5.0,311.0,15.2,395.6,12.43]  |\n",
      "|[0.14455,12.5,7.87,0.0,0.524,6.172,96.1,5.9505,5.0,311.0,15.2,396.9,19.15]  |\n",
      "|[0.21124,12.5,7.87,0.0,0.524,5.631,100.0,6.0821,5.0,311.0,15.2,386.63,29.93]|\n",
      "|[0.17004,12.5,7.87,0.0,0.524,6.004,85.9,6.5921,5.0,311.0,15.2,386.71,17.1]  |\n",
      "|[0.22489,12.5,7.87,0.0,0.524,6.377,94.3,6.3467,5.0,311.0,15.2,392.52,20.45] |\n",
      "|[0.11747,12.5,7.87,0.0,0.524,6.009,82.9,6.2267,5.0,311.0,15.2,396.9,13.27]  |\n",
      "|[0.09378,12.5,7.87,0.0,0.524,5.889,39.0,5.4509,5.0,311.0,15.2,390.5,15.71]  |\n",
      "|[0.62976,0.0,8.14,0.0,0.538,5.949,61.8,4.7075,4.0,307.0,21.0,396.9,8.26]    |\n",
      "|[0.63796,0.0,8.14,0.0,0.538,6.096,84.5,4.4619,4.0,307.0,21.0,380.02,10.26]  |\n",
      "|[0.62739,0.0,8.14,0.0,0.538,5.834,56.5,4.4986,4.0,307.0,21.0,395.62,8.47]   |\n",
      "|[1.05393,0.0,8.14,0.0,0.538,5.935,29.3,4.4986,4.0,307.0,21.0,386.85,6.58]   |\n",
      "|[0.7842,0.0,8.14,0.0,0.538,5.99,81.7,4.2579,4.0,307.0,21.0,386.75,14.67]    |\n",
      "|[0.80271,0.0,8.14,0.0,0.538,5.456,36.6,3.7965,4.0,307.0,21.0,288.99,11.69]  |\n",
      "|[0.7258,0.0,8.14,0.0,0.538,5.727,69.5,3.7965,4.0,307.0,21.0,390.95,11.28]   |\n",
      "+----------------------------------------------------------------------------+\n",
      "only showing top 20 rows\n",
      "\n"
     ]
    }
   ],
   "source": [
    "dataset.select(\"features\").show(truncate=False)"
   ]
  },
  {
   "cell_type": "code",
   "execution_count": 8,
   "id": "2dc2a995",
   "metadata": {},
   "outputs": [
    {
     "data": {
      "text/plain": [
       "DataFrame[CRIM: double, ZN: double, INDUS: double, CHAS: double, NOX: double, RM: double, AGE: double, DIS: double, RAD: double, TAX: double, PTRATIO: double, B: double, LSTAT: double, price: double, features: vector]"
      ]
     },
     "execution_count": 8,
     "metadata": {},
     "output_type": "execute_result"
    }
   ],
   "source": [
    "\"\"\"\n",
    "By caching you create a checkpoint in your spark application \n",
    "and if further down the execution of application any of the \n",
    "tasks fail your application will be able to recompute the \n",
    "lost RDD partition from the cache.\n",
    "\"\"\"\n",
    "dataset.cache()"
   ]
  },
  {
   "cell_type": "code",
   "execution_count": 9,
   "id": "0063e148",
   "metadata": {},
   "outputs": [],
   "source": [
    "lr = LinearRegression(featuresCol=\"features\", labelCol=\"price\")\n",
    "model = lr.fit(dataset)"
   ]
  },
  {
   "cell_type": "markdown",
   "id": "0d7b294e",
   "metadata": {},
   "source": [
    "##### Importance of Individual Features"
   ]
  },
  {
   "cell_type": "code",
   "execution_count": 10,
   "id": "7b937a0b",
   "metadata": {},
   "outputs": [
    {
     "data": {
      "text/plain": [
       "DenseVector([-0.108, 0.0464, 0.0206, 2.6867, -17.7666, 3.8099, 0.0007, -1.4756, 0.306, -0.0123, -0.9527, 0.0093, -0.5248])"
      ]
     },
     "execution_count": 10,
     "metadata": {},
     "output_type": "execute_result"
    }
   ],
   "source": [
    "model.coefficients"
   ]
  },
  {
   "cell_type": "code",
   "execution_count": 11,
   "id": "85a607e6",
   "metadata": {},
   "outputs": [
    {
     "data": {
      "text/plain": [
       "['CRIM',\n",
       " 'ZN',\n",
       " 'INDUS',\n",
       " 'CHAS',\n",
       " 'NOX',\n",
       " 'RM',\n",
       " 'AGE',\n",
       " 'DIS',\n",
       " 'RAD',\n",
       " 'TAX',\n",
       " 'PTRATIO',\n",
       " 'B',\n",
       " 'LSTAT']"
      ]
     },
     "execution_count": 11,
     "metadata": {},
     "output_type": "execute_result"
    }
   ],
   "source": [
    "assembler.getInputCols()"
   ]
  },
  {
   "cell_type": "code",
   "execution_count": 12,
   "id": "1534bb84",
   "metadata": {},
   "outputs": [
    {
     "data": {
      "text/plain": [
       "<AxesSubplot:>"
      ]
     },
     "execution_count": 12,
     "metadata": {},
     "output_type": "execute_result"
    },
    {
     "data": {
      "image/png": "[encoded data removed]",
      "text/plain": [
       "<Figure size 432x288 with 1 Axes>"
      ]
     },
     "metadata": {
      "needs_background": "light"
     },
     "output_type": "display_data"
    }
   ],
   "source": [
    "pd.Series(np.array(model.coefficients), index=assembler.getInputCols()).plot(kind='bar')"
   ]
  },
  {
   "cell_type": "code",
   "execution_count": 13,
   "id": "6388771f",
   "metadata": {},
   "outputs": [
    {
     "data": {
      "text/plain": [
       "0.7406426641094093"
      ]
     },
     "execution_count": 13,
     "metadata": {},
     "output_type": "execute_result"
    }
   ],
   "source": [
    "# Getting Metrics\n",
    "summary = model.evaluate(dataset)\n",
    "summary.r2"
   ]
  },
  {
   "cell_type": "code",
   "execution_count": 14,
   "id": "900958d9",
   "metadata": {},
   "outputs": [
    {
     "data": {
      "text/plain": [
       "62.52472497442836"
      ]
     },
     "execution_count": 14,
     "metadata": {},
     "output_type": "execute_result"
    }
   ],
   "source": [
    "summary.explainedVariance"
   ]
  },
  {
   "cell_type": "code",
   "execution_count": 15,
   "id": "7761f906",
   "metadata": {},
   "outputs": [
    {
     "name": "stdout",
     "output_type": "stream",
     "text": [
      "+----+-----+-----+-----+-----------------+\n",
      "|CHAS|  NOX|   RM|price|         features|\n",
      "+----+-----+-----+-----+-----------------+\n",
      "| 0.0|0.538|6.575| 24.0|[0.0,0.538,6.575]|\n",
      "| 0.0|0.469|6.421| 21.6|[0.0,0.469,6.421]|\n",
      "| 0.0|0.469|7.185| 34.7|[0.0,0.469,7.185]|\n",
      "| 0.0|0.458|6.998| 33.4|[0.0,0.458,6.998]|\n",
      "| 0.0|0.458|7.147| 36.2|[0.0,0.458,7.147]|\n",
      "| 0.0|0.458| 6.43| 28.7| [0.0,0.458,6.43]|\n",
      "| 0.0|0.524|6.012| 22.9|[0.0,0.524,6.012]|\n",
      "| 0.0|0.524|6.172| 27.1|[0.0,0.524,6.172]|\n",
      "| 0.0|0.524|5.631| 16.5|[0.0,0.524,5.631]|\n",
      "| 0.0|0.524|6.004| 18.9|[0.0,0.524,6.004]|\n",
      "| 0.0|0.524|6.377| 15.0|[0.0,0.524,6.377]|\n",
      "| 0.0|0.524|6.009| 18.9|[0.0,0.524,6.009]|\n",
      "| 0.0|0.524|5.889| 21.7|[0.0,0.524,5.889]|\n",
      "| 0.0|0.538|5.949| 20.4|[0.0,0.538,5.949]|\n",
      "| 0.0|0.538|6.096| 18.2|[0.0,0.538,6.096]|\n",
      "| 0.0|0.538|5.834| 19.9|[0.0,0.538,5.834]|\n",
      "| 0.0|0.538|5.935| 23.1|[0.0,0.538,5.935]|\n",
      "| 0.0|0.538| 5.99| 17.5| [0.0,0.538,5.99]|\n",
      "| 0.0|0.538|5.456| 20.2|[0.0,0.538,5.456]|\n",
      "| 0.0|0.538|5.727| 18.2|[0.0,0.538,5.727]|\n",
      "+----+-----+-----+-----+-----------------+\n",
      "only showing top 20 rows\n",
      "\n"
     ]
    }
   ],
   "source": [
    "# Training on a subset of the dataset including only a few features\n",
    "subset = sdf.select(\"CHAS\", \"NOX\", \"RM\", \"price\")\n",
    "assembler = VectorAssembler(inputCols=[col for col in subset.columns if col != \"price\"],\n",
    "                           outputCol=\"features\")\n",
    "small_dataset = assembler.transform(subset)\n",
    "small_dataset.show()"
   ]
  },
  {
   "cell_type": "code",
   "execution_count": 16,
   "id": "fd465657",
   "metadata": {},
   "outputs": [],
   "source": [
    "lr = LinearRegression(featuresCol=\"features\", labelCol=\"price\")\n",
    "small_model = lr.fit(small_dataset)\n",
    "summary = small_model.evaluate(small_dataset)"
   ]
  },
  {
   "cell_type": "code",
   "execution_count": 17,
   "id": "a582c6d8",
   "metadata": {},
   "outputs": [
    {
     "data": {
      "text/plain": [
       "0.555573713059086"
      ]
     },
     "execution_count": 17,
     "metadata": {},
     "output_type": "execute_result"
    }
   ],
   "source": [
    "summary.r2"
   ]
  },
  {
   "cell_type": "code",
   "execution_count": 18,
   "id": "84f5b235",
   "metadata": {},
   "outputs": [
    {
     "data": {
      "text/plain": [
       "46.90128626848128"
      ]
     },
     "execution_count": 18,
     "metadata": {},
     "output_type": "execute_result"
    }
   ],
   "source": [
    "summary.explainedVariance"
   ]
  },
  {
   "cell_type": "markdown",
   "id": "100a1876",
   "metadata": {},
   "source": [
    "`Note:` Only a couple of metrics are explaining the huge part of the Variance in the dataset"
   ]
  },
  {
   "cell_type": "markdown",
   "id": "6e5cf0df",
   "metadata": {},
   "source": [
    "### Fitting the Linear Regression on the Diabetes dataset"
   ]
  },
  {
   "cell_type": "code",
   "execution_count": 19,
   "id": "90b6ce53",
   "metadata": {},
   "outputs": [],
   "source": [
    "# Step1: Create a Spark Dataframe and prepare the dataset\n",
    "diabetes = datasets.load_diabetes()\n",
    "df = pd.DataFrame(diabetes.data, columns=diabetes.feature_names)\n",
    "df['y'] = diabetes.target\n",
    "\n",
    "# Converting pandas dataframe in Spark dataframe\n",
    "sdf = spark.createDataFrame(df)\n",
    "\n",
    "assembler = VectorAssembler(inputCols=[col for col in df.columns if col!=\"y\"],\n",
    "                           outputCol=\"features\")\n",
    "dataset = assembler.transform(sdf)"
   ]
  },
  {
   "cell_type": "code",
   "execution_count": 20,
   "id": "4d928868",
   "metadata": {},
   "outputs": [
    {
     "name": "stdout",
     "output_type": "stream",
     "text": [
      "0.5177494254132935 3070.1944981422444\n"
     ]
    }
   ],
   "source": [
    "# Step2: Fitting the model and finding R2 score and Explained Variance\n",
    "lr = LinearRegression(featuresCol=\"features\", labelCol=\"y\")\n",
    "model = lr.fit(dataset)\n",
    "summary = model.evaluate(dataset)\n",
    "print(summary.r2, summary.explainedVariance)"
   ]
  },
  {
   "cell_type": "code",
   "execution_count": 21,
   "id": "9874c4b0",
   "metadata": {},
   "outputs": [
    {
     "data": {
      "text/plain": [
       "<AxesSubplot:>"
      ]
     },
     "execution_count": 21,
     "metadata": {},
     "output_type": "execute_result"
    },
    {
     "data": {
      "image/png": "[encoded data removed]",
      "text/plain": [
       "<Figure size 432x288 with 1 Axes>"
      ]
     },
     "metadata": {
      "needs_background": "light"
     },
     "output_type": "display_data"
    }
   ],
   "source": [
    "# Step3: Plotting to see what features are important\n",
    "pd.Series(model.coefficients, index=assembler.getInputCols()).abs().sort_values(ascending=False).plot(kind=\"bar\")"
   ]
  },
  {
   "cell_type": "markdown",
   "id": "eda35f64",
   "metadata": {},
   "source": [
    "`Note:` We will consider top-4 features affecting diabetes, i.e., \"s1\", \"s5\", \"bmi\", \"s2\""
   ]
  },
  {
   "cell_type": "code",
   "execution_count": 22,
   "id": "d42477f7",
   "metadata": {},
   "outputs": [],
   "source": [
    "# Step4: Training a new model on this subset and finding R2 and Explained Variance\n",
    "subset = dataset.select(\"s1\", \"s5\", \"bmi\", \"s2\", \"y\")\n",
    "assembler = VectorAssembler(inputCols=[col for col in subset.columns if col != \"y\"],\n",
    "                            outputCol=\"features\")\n",
    "dataset = assembler.transform(subset)"
   ]
  },
  {
   "cell_type": "code",
   "execution_count": 23,
   "id": "90336853",
   "metadata": {},
   "outputs": [
    {
     "name": "stdout",
     "output_type": "stream",
     "text": [
      "0.4764751603914338 2825.442857358158\n"
     ]
    }
   ],
   "source": [
    "# Step2: Fitting the model and finding R2 score and Explained Variance\n",
    "lr = LinearRegression(featuresCol=\"features\", labelCol=\"y\")\n",
    "model = lr.fit(dataset)\n",
    "summary = model.evaluate(dataset)\n",
    "print(summary.r2, summary.explainedVariance)"
   ]
  },
  {
   "cell_type": "code",
   "execution_count": 24,
   "id": "de69a32c",
   "metadata": {},
   "outputs": [
    {
     "data": {
      "text/plain": [
       "0.9202813890350288"
      ]
     },
     "execution_count": 24,
     "metadata": {},
     "output_type": "execute_result"
    }
   ],
   "source": [
    "0.4764751603914338/0.5177494254132935 "
   ]
  },
  {
   "cell_type": "markdown",
   "id": "bc2afe75",
   "metadata": {},
   "source": [
    "`Note:` We can see that 92% of the variance is explained by these 4 selected variables only."
   ]
  }
 ],
 "metadata": {
  "kernelspec": {
   "display_name": "Python 3 (ipykernel)",
   "language": "python",
   "name": "python3"
  },
  "language_info": {
   "codemirror_mode": {
    "name": "ipython",
    "version": 3
   },
   "file_extension": ".py",
   "mimetype": "text/x-python",
   "name": "python",
   "nbconvert_exporter": "python",
   "pygments_lexer": "ipython3",
   "version": "3.9.7"
  }
 },
 "nbformat": 4,
 "nbformat_minor": 5
}
