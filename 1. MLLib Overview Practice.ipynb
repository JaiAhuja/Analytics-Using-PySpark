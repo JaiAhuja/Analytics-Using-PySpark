{
 "cells": [
  {
   "cell_type": "code",
   "execution_count": 1,
   "id": "98a1271c",
   "metadata": {},
   "outputs": [],
   "source": [
    "import findspark\n",
    "findspark.init()\n",
    "findspark.find()\n",
    "import pyspark\n",
    "\n",
    "import os\n",
    "import functools as reduce\n",
    "from pyspark.context import SparkContext\n",
    "from pyspark.sql import DataFrame, SQLContext, SparkSession, Window\n",
    "from pyspark.sql.functions import *\n",
    "from pyspark.sql.types import *\n",
    "\n",
    "conf = pyspark.SparkConf().setAppName('MLLib-Overview').setMaster('local')\n",
    "sc = pyspark.SparkContext(conf = conf)\n",
    "spark = SparkSession(sc)\n",
    "sqlContext = SQLContext(sc)"
   ]
  },
  {
   "cell_type": "code",
   "execution_count": 2,
   "id": "473857a9",
   "metadata": {},
   "outputs": [
    {
     "data": {
      "text/html": [
       "\n",
       "            <div>\n",
       "                <p><b>SparkSession - in-memory</b></p>\n",
       "                \n",
       "        <div>\n",
       "            <p><b>SparkContext</b></p>\n",
       "\n",
       "            <p><a href=\"http://Jai-Ahuja:4040\">Spark UI</a></p>\n",
       "\n",
       "            <dl>\n",
       "              <dt>Version</dt>\n",
       "                <dd><code>v3.1.2</code></dd>\n",
       "              <dt>Master</dt>\n",
       "                <dd><code>local</code></dd>\n",
       "              <dt>AppName</dt>\n",
       "                <dd><code>MLLib-Overview</code></dd>\n",
       "            </dl>\n",
       "        </div>\n",
       "        \n",
       "            </div>\n",
       "        "
      ],
      "text/plain": [
       "<pyspark.sql.session.SparkSession at 0x1c5efbf7820>"
      ]
     },
     "execution_count": 2,
     "metadata": {},
     "output_type": "execute_result"
    }
   ],
   "source": [
    "spark"
   ]
  },
  {
   "cell_type": "code",
   "execution_count": 3,
   "id": "373650a3",
   "metadata": {},
   "outputs": [],
   "source": [
    "# Reading the dataset\n",
    "df1 = spark.read.csv(r\"D:\\Data Science\\IIITB\\Data Engineering - II\\Module - 6 (Analytics Using PySpark)\\1. Basic EDA using Spark ML Library\\auto-miles-per-gallon-Raw+(3).csv\", header=True, inferSchema=False)"
   ]
  },
  {
   "cell_type": "code",
   "execution_count": 4,
   "id": "8cfdac8c",
   "metadata": {},
   "outputs": [
    {
     "name": "stdout",
     "output_type": "stream",
     "text": [
      "+-----+---------+------------+----------+------+------------+---------+--------------------+\n",
      "|  MPG|CYLINDERS|DISPLACEMENT|HORSEPOWER|WEIGHT|ACCELERATION|MODELYEAR|                NAME|\n",
      "+-----+---------+------------+----------+------+------------+---------+--------------------+\n",
      "|   18|        8|         307|       130|  3504|          12|       70|chevrolet chevell...|\n",
      "|   15|        8|         350|       165|  3693|        11.5|       70| buick skylark 320\"\"|\n",
      "|   18|        8|         318|       150|  3436|          11|       70|plymouth satellite\"\"|\n",
      "|   16|        8|         304|       150|  3433|          12|       70|     amc rebel sst\"\"|\n",
      "|   17|        8|         302|       140|  3449|        10.5|       70|       ford torino\"\"|\n",
      "|   15|        8|         429|      Null|  4341|          10|       70|  ford galaxie 500\"\"|\n",
      "|   14|        8|         454|       220|  4354|           9|       70|  chevrolet impala\"\"|\n",
      "|   14|        8|         440|       215|  4312|         8.5|       70| plymouth fury iii\"\"|\n",
      "|   14|        8|         455|    asdasd|  4425|          10|       70|  pontiac catalina\"\"|\n",
      "|   15|        8|         390|       190|  3850|         8.5|       70|amc ambassador dpl\"\"|\n",
      "|   NA|        4|         133|       115|  3090|        17.5|       70|citroen ds-21 pal...|\n",
      "|hellp|        8|         350|       165|  4142|        11.5|       70|chevrolet chevell...|\n",
      "|   NA|        8|         351|       153|  4034|          11|       70|  ford torino (sw)\"\"|\n",
      "|   NA|        8|         383|       175|  4166|        10.5|       70|plymouth satellit...|\n",
      "|   NA|        8|         360|       175|  3850|          11|       70|amc rebel sst (sw)\"\"|\n",
      "|   15|        8|         383|       170|  3563|          10|       70|dodge challenger ...|\n",
      "|   14|        8|         340|       160|  3609|           8|       70|plymouth 'cuda 340\"\"|\n",
      "|   NA|        8|         302|       140|  3353|           8|       70|ford mustang boss...|\n",
      "|   15|        8|         400|       150|  3761|         9.5|       70|chevrolet monte c...|\n",
      "|   14|        8|         455|       225|  3086|          10|       70|buick estate wago...|\n",
      "+-----+---------+------------+----------+------+------------+---------+--------------------+\n",
      "only showing top 20 rows\n",
      "\n"
     ]
    }
   ],
   "source": [
    "# Displaying samples\n",
    "df1.show()"
   ]
  },
  {
   "cell_type": "code",
   "execution_count": 5,
   "id": "3fb290e6",
   "metadata": {},
   "outputs": [
    {
     "name": "stdout",
     "output_type": "stream",
     "text": [
      "root\n",
      " |-- MPG: string (nullable = true)\n",
      " |-- CYLINDERS: string (nullable = true)\n",
      " |-- DISPLACEMENT: string (nullable = true)\n",
      " |-- HORSEPOWER: string (nullable = true)\n",
      " |-- WEIGHT: string (nullable = true)\n",
      " |-- ACCELERATION: string (nullable = true)\n",
      " |-- MODELYEAR: string (nullable = true)\n",
      " |-- NAME: string (nullable = true)\n",
      "\n"
     ]
    }
   ],
   "source": [
    "# Printing Schema\n",
    "df1.printSchema()"
   ]
  },
  {
   "cell_type": "code",
   "execution_count": 6,
   "id": "7a5e4c38",
   "metadata": {},
   "outputs": [
    {
     "name": "stdout",
     "output_type": "stream",
     "text": [
      "+-------+------------------+-----------------+------------------+------------------+------------------+------------------+------------------+--------------------+\n",
      "|summary|               MPG|        CYLINDERS|      DISPLACEMENT|        HORSEPOWER|            WEIGHT|      ACCELERATION|         MODELYEAR|                NAME|\n",
      "+-------+------------------+-----------------+------------------+------------------+------------------+------------------+------------------+--------------------+\n",
      "|  count|               406|              406|               406|               406|               406|               406|               406|                 406|\n",
      "|   mean|23.514572864321615|5.475369458128079| 194.7795566502463|104.56675062972292|2979.4137931034484|15.519704433497521| 75.92118226600985|                null|\n",
      "| stddev| 7.815984312565783|1.712159631548529|104.92245837948867|  38.1556978120705| 847.0043282393513|2.8033588163425462|3.7487373454558743|                null|\n",
      "|    min|                10|                3|               100|               100|              1613|                10|                70|amc ambassador br...|\n",
      "|    max|             hellp|                8|                98|               sda|              5140|               9.5|                82|         vw rabbit\"\"|\n",
      "+-------+------------------+-----------------+------------------+------------------+------------------+------------------+------------------+--------------------+\n",
      "\n"
     ]
    }
   ],
   "source": [
    "# Statistical summary\n",
    "df1.describe().show()"
   ]
  },
  {
   "cell_type": "code",
   "execution_count": 7,
   "id": "585f8964",
   "metadata": {},
   "outputs": [
    {
     "data": {
      "text/plain": [
       "['MPG',\n",
       " 'CYLINDERS',\n",
       " 'DISPLACEMENT',\n",
       " 'HORSEPOWER',\n",
       " 'WEIGHT',\n",
       " 'ACCELERATION',\n",
       " 'MODELYEAR',\n",
       " 'NAME']"
      ]
     },
     "execution_count": 7,
     "metadata": {},
     "output_type": "execute_result"
    }
   ],
   "source": [
    "df1.columns"
   ]
  },
  {
   "cell_type": "code",
   "execution_count": 8,
   "id": "82c84bbe",
   "metadata": {},
   "outputs": [],
   "source": [
    "# Casting the numerical columns in Double format\n",
    "cols = [\"MPG\", \"CYLINDERS\", \"DISPLACEMENT\", \"HORSEPOWER\", \"WEIGHT\", \"ACCELERATION\", \"MODELYEAR\"]\n",
    "\n",
    "for i in cols:\n",
    "    df1 = df1.withColumn(i, df1[i].cast(DoubleType()))"
   ]
  },
  {
   "cell_type": "code",
   "execution_count": 9,
   "id": "84a6c0ff",
   "metadata": {},
   "outputs": [
    {
     "name": "stdout",
     "output_type": "stream",
     "text": [
      "+----+---------+------------+----------+------+------------+---------+--------------------+\n",
      "| MPG|CYLINDERS|DISPLACEMENT|HORSEPOWER|WEIGHT|ACCELERATION|MODELYEAR|                NAME|\n",
      "+----+---------+------------+----------+------+------------+---------+--------------------+\n",
      "|18.0|      8.0|       307.0|     130.0|3504.0|        12.0|     70.0|chevrolet chevell...|\n",
      "|15.0|      8.0|       350.0|     165.0|3693.0|        11.5|     70.0| buick skylark 320\"\"|\n",
      "|18.0|      8.0|       318.0|     150.0|3436.0|        11.0|     70.0|plymouth satellite\"\"|\n",
      "|16.0|      8.0|       304.0|     150.0|3433.0|        12.0|     70.0|     amc rebel sst\"\"|\n",
      "|17.0|      8.0|       302.0|     140.0|3449.0|        10.5|     70.0|       ford torino\"\"|\n",
      "|15.0|      8.0|       429.0|      null|4341.0|        10.0|     70.0|  ford galaxie 500\"\"|\n",
      "|14.0|      8.0|       454.0|     220.0|4354.0|         9.0|     70.0|  chevrolet impala\"\"|\n",
      "|14.0|      8.0|       440.0|     215.0|4312.0|         8.5|     70.0| plymouth fury iii\"\"|\n",
      "|14.0|      8.0|       455.0|      null|4425.0|        10.0|     70.0|  pontiac catalina\"\"|\n",
      "|15.0|      8.0|       390.0|     190.0|3850.0|         8.5|     70.0|amc ambassador dpl\"\"|\n",
      "|null|      4.0|       133.0|     115.0|3090.0|        17.5|     70.0|citroen ds-21 pal...|\n",
      "|null|      8.0|       350.0|     165.0|4142.0|        11.5|     70.0|chevrolet chevell...|\n",
      "|null|      8.0|       351.0|     153.0|4034.0|        11.0|     70.0|  ford torino (sw)\"\"|\n",
      "|null|      8.0|       383.0|     175.0|4166.0|        10.5|     70.0|plymouth satellit...|\n",
      "|null|      8.0|       360.0|     175.0|3850.0|        11.0|     70.0|amc rebel sst (sw)\"\"|\n",
      "|15.0|      8.0|       383.0|     170.0|3563.0|        10.0|     70.0|dodge challenger ...|\n",
      "|14.0|      8.0|       340.0|     160.0|3609.0|         8.0|     70.0|plymouth 'cuda 340\"\"|\n",
      "|null|      8.0|       302.0|     140.0|3353.0|         8.0|     70.0|ford mustang boss...|\n",
      "|15.0|      8.0|       400.0|     150.0|3761.0|         9.5|     70.0|chevrolet monte c...|\n",
      "|14.0|      8.0|       455.0|     225.0|3086.0|        10.0|     70.0|buick estate wago...|\n",
      "+----+---------+------------+----------+------+------------+---------+--------------------+\n",
      "only showing top 20 rows\n",
      "\n"
     ]
    }
   ],
   "source": [
    "df1.show()"
   ]
  },
  {
   "cell_type": "code",
   "execution_count": 10,
   "id": "42315953",
   "metadata": {},
   "outputs": [],
   "source": [
    "# Handling Missing Values\n",
    "df2 = df1.dropna()"
   ]
  },
  {
   "cell_type": "code",
   "execution_count": 11,
   "id": "c3ebf4fa",
   "metadata": {},
   "outputs": [
    {
     "name": "stdout",
     "output_type": "stream",
     "text": [
      "+-------+------------------+------------------+------------------+------------------+------------------+------------------+------------------+--------------------+\n",
      "|summary|               MPG|         CYLINDERS|      DISPLACEMENT|        HORSEPOWER|            WEIGHT|      ACCELERATION|         MODELYEAR|                NAME|\n",
      "+-------+------------------+------------------+------------------+------------------+------------------+------------------+------------------+--------------------+\n",
      "|  count|               389|               389|               389|               389|               389|               389|               389|                 389|\n",
      "|   mean|23.505912596401025|5.4575835475578405| 193.1272493573265|103.93830334190231|2970.8817480719795| 15.56992287917736| 76.02570694087403|                null|\n",
      "| stddev|7.8035440668103035|1.7024467902237224|103.52041672172308|37.849829402174656|  846.593666699619|2.7406345198432867|3.6600880681307015|                null|\n",
      "|    min|               9.0|               3.0|              68.0|              46.0|            1613.0|               8.0|              70.0|amc ambassador br...|\n",
      "|    max|              46.6|               8.0|             455.0|             230.0|            5140.0|              24.8|              82.0|         vw rabbit\"\"|\n",
      "+-------+------------------+------------------+------------------+------------------+------------------+------------------+------------------+--------------------+\n",
      "\n"
     ]
    }
   ],
   "source": [
    "df2.describe().show()"
   ]
  },
  {
   "cell_type": "code",
   "execution_count": 12,
   "id": "b5a6a1ff",
   "metadata": {},
   "outputs": [],
   "source": [
    "# Using Imputer to impute the NULL values\n",
    "from pyspark.ml.feature import Imputer\n",
    "\n",
    "# Imputer method automatically replaces null values with mean values\n",
    "imputer = Imputer(inputCols=[\"MPG\", \"HORSEPOWER\"], outputCols=[\"MPG-Out\", \"HORSEPOWER-Out\"])\n",
    "\n",
    "# Fitting the dataframe into model\n",
    "imputeModel = imputer.fit(df1)\n",
    "\n",
    "# Transforming the dataframe\n",
    "df3 = imputeModel.transform(df1)"
   ]
  },
  {
   "cell_type": "code",
   "execution_count": 13,
   "id": "f1a03510",
   "metadata": {},
   "outputs": [
    {
     "name": "stdout",
     "output_type": "stream",
     "text": [
      "+----+---------+------------+----------+------+------------+---------+--------------------+------------------+------------------+\n",
      "| MPG|CYLINDERS|DISPLACEMENT|HORSEPOWER|WEIGHT|ACCELERATION|MODELYEAR|                NAME|           MPG-Out|    HORSEPOWER-Out|\n",
      "+----+---------+------------+----------+------+------------+---------+--------------------+------------------+------------------+\n",
      "|18.0|      8.0|       307.0|     130.0|3504.0|        12.0|     70.0|chevrolet chevell...|              18.0|             130.0|\n",
      "|15.0|      8.0|       350.0|     165.0|3693.0|        11.5|     70.0| buick skylark 320\"\"|              15.0|             165.0|\n",
      "|18.0|      8.0|       318.0|     150.0|3436.0|        11.0|     70.0|plymouth satellite\"\"|              18.0|             150.0|\n",
      "|16.0|      8.0|       304.0|     150.0|3433.0|        12.0|     70.0|     amc rebel sst\"\"|              16.0|             150.0|\n",
      "|17.0|      8.0|       302.0|     140.0|3449.0|        10.5|     70.0|       ford torino\"\"|              17.0|             140.0|\n",
      "|15.0|      8.0|       429.0|      null|4341.0|        10.0|     70.0|  ford galaxie 500\"\"|              15.0|104.56675062972292|\n",
      "|14.0|      8.0|       454.0|     220.0|4354.0|         9.0|     70.0|  chevrolet impala\"\"|              14.0|             220.0|\n",
      "|14.0|      8.0|       440.0|     215.0|4312.0|         8.5|     70.0| plymouth fury iii\"\"|              14.0|             215.0|\n",
      "|14.0|      8.0|       455.0|      null|4425.0|        10.0|     70.0|  pontiac catalina\"\"|              14.0|104.56675062972292|\n",
      "|15.0|      8.0|       390.0|     190.0|3850.0|         8.5|     70.0|amc ambassador dpl\"\"|              15.0|             190.0|\n",
      "|null|      4.0|       133.0|     115.0|3090.0|        17.5|     70.0|citroen ds-21 pal...|23.514572864321615|             115.0|\n",
      "|null|      8.0|       350.0|     165.0|4142.0|        11.5|     70.0|chevrolet chevell...|23.514572864321615|             165.0|\n",
      "|null|      8.0|       351.0|     153.0|4034.0|        11.0|     70.0|  ford torino (sw)\"\"|23.514572864321615|             153.0|\n",
      "|null|      8.0|       383.0|     175.0|4166.0|        10.5|     70.0|plymouth satellit...|23.514572864321615|             175.0|\n",
      "|null|      8.0|       360.0|     175.0|3850.0|        11.0|     70.0|amc rebel sst (sw)\"\"|23.514572864321615|             175.0|\n",
      "|15.0|      8.0|       383.0|     170.0|3563.0|        10.0|     70.0|dodge challenger ...|              15.0|             170.0|\n",
      "|14.0|      8.0|       340.0|     160.0|3609.0|         8.0|     70.0|plymouth 'cuda 340\"\"|              14.0|             160.0|\n",
      "|null|      8.0|       302.0|     140.0|3353.0|         8.0|     70.0|ford mustang boss...|23.514572864321615|             140.0|\n",
      "|15.0|      8.0|       400.0|     150.0|3761.0|         9.5|     70.0|chevrolet monte c...|              15.0|             150.0|\n",
      "|14.0|      8.0|       455.0|     225.0|3086.0|        10.0|     70.0|buick estate wago...|              14.0|             225.0|\n",
      "+----+---------+------------+----------+------+------------+---------+--------------------+------------------+------------------+\n",
      "only showing top 20 rows\n",
      "\n",
      "+-------+------------------+-----------------+------------------+------------------+------------------+------------------+------------------+--------------------+-----------------+------------------+\n",
      "|summary|               MPG|        CYLINDERS|      DISPLACEMENT|        HORSEPOWER|            WEIGHT|      ACCELERATION|         MODELYEAR|                NAME|          MPG-Out|    HORSEPOWER-Out|\n",
      "+-------+------------------+-----------------+------------------+------------------+------------------+------------------+------------------+--------------------+-----------------+------------------+\n",
      "|  count|               398|              406|               406|               397|               406|               406|               406|                 406|              406|               406|\n",
      "|   mean|23.514572864321615|5.475369458128079| 194.7795566502463|104.56675062972292|2979.4137931034484|15.519704433497521| 75.92118226600985|                null|23.51457286432162|104.56675062972295|\n",
      "| stddev| 7.815984312565783|1.712159631548529|104.92245837948867|  38.1556978120705| 847.0043282393513|2.8033588163425462|3.7487373454558743|                null|7.738404384193235| 37.72936378506086|\n",
      "|    min|               9.0|              3.0|              68.0|              46.0|            1613.0|               8.0|              70.0|amc ambassador br...|              9.0|              46.0|\n",
      "|    max|              46.6|              8.0|             455.0|             230.0|            5140.0|              24.8|              82.0|         vw rabbit\"\"|             46.6|             230.0|\n",
      "+-------+------------------+-----------------+------------------+------------------+------------------+------------------+------------------+--------------------+-----------------+------------------+\n",
      "\n"
     ]
    }
   ],
   "source": [
    "df3.show()\n",
    "df3.describe().show()"
   ]
  },
  {
   "cell_type": "code",
   "execution_count": 14,
   "id": "88353b3a",
   "metadata": {},
   "outputs": [
    {
     "data": {
      "text/plain": [
       "DataFrame[MPG: double, CYLINDERS: double, DISPLACEMENT: double, WEIGHT: double, ACCELERATION: double, MODELYEAR: double, NAME: string, MPG-Out: double, HORSEPOWER-Out: double]"
      ]
     },
     "execution_count": 14,
     "metadata": {},
     "output_type": "execute_result"
    }
   ],
   "source": [
    "# Removing the unnecessary columns\n",
    "df3.drop(df3[\"MPG\"])\n",
    "df3.drop(df3[\"HORSEPOWER\"])"
   ]
  },
  {
   "cell_type": "markdown",
   "id": "a4cdc045",
   "metadata": {},
   "source": [
    "### Feature Transformers\n",
    "Feature Transformers transforms the data stores in a dataframe and store the data back as a new dataframe. This transformation generally takes place by appending one or more colums to the existing data frame."
   ]
  },
  {
   "cell_type": "markdown",
   "id": "313dadb9",
   "metadata": {},
   "source": [
    "#### Vector Assembler\n",
    "VectorAssembler is a transformer that combines a given list of columns nto a singles vector column. It is useful for combining raw features and features generated by different feature transformers into a single feature vector, in order to train ML models like Logistic Regression and Decision Trees"
   ]
  },
  {
   "cell_type": "code",
   "execution_count": 15,
   "id": "1a27eb94",
   "metadata": {},
   "outputs": [],
   "source": [
    "from pyspark.ml.linalg import Vectors\n",
    "from pyspark.ml.feature import VectorAssembler\n",
    "\n",
    "assembler = VectorAssembler(\n",
    "                inputCols=[\"CYLINDERS\", \"WEIGHT\", \"HORSEPOWER-Out\", \"DISPLACEMENT\"],\n",
    "                outputCol=\"features\")\n",
    "\n",
    "output = assembler.transform(df3)"
   ]
  },
  {
   "cell_type": "markdown",
   "id": "79ee7255",
   "metadata": {},
   "source": [
    "#### StandardScaler\n",
    "StandardScaler is an Estimator which can be fit on a dataset to produce a StandardScalerModel. It transforms a dataset of Vector rows, normalizing each feature to have unit standard deviation and/or zero mean"
   ]
  },
  {
   "cell_type": "code",
   "execution_count": 16,
   "id": "5049bdf7",
   "metadata": {},
   "outputs": [],
   "source": [
    "from pyspark.ml.feature import StandardScaler\n",
    "\n",
    "scaler = StandardScaler(inputCol= \"features\", outputCol= \"scaledFeatures\",\n",
    "                       withStd=True, withMean=False)"
   ]
  },
  {
   "cell_type": "code",
   "execution_count": 17,
   "id": "4fe4794d",
   "metadata": {},
   "outputs": [],
   "source": [
    "Scaled_Model = scaler.fit(output)"
   ]
  },
  {
   "cell_type": "code",
   "execution_count": 18,
   "id": "5df5afa5",
   "metadata": {},
   "outputs": [],
   "source": [
    "scaled_data = Scaled_Model.transform(output)"
   ]
  },
  {
   "cell_type": "code",
   "execution_count": 19,
   "id": "5c091fe5",
   "metadata": {},
   "outputs": [
    {
     "name": "stdout",
     "output_type": "stream",
     "text": [
      "+----+---------+------------+----------+------+------------+---------+--------------------+------------------+------------------+--------------------+--------------------+\n",
      "| MPG|CYLINDERS|DISPLACEMENT|HORSEPOWER|WEIGHT|ACCELERATION|MODELYEAR|                NAME|           MPG-Out|    HORSEPOWER-Out|            features|      scaledFeatures|\n",
      "+----+---------+------------+----------+------+------------+---------+--------------------+------------------+------------------+--------------------+--------------------+\n",
      "|18.0|      8.0|       307.0|     130.0|3504.0|        12.0|     70.0|chevrolet chevell...|              18.0|             130.0|[8.0,3504.0,130.0...|[4.67246152320771...|\n",
      "|15.0|      8.0|       350.0|     165.0|3693.0|        11.5|     70.0| buick skylark 320\"\"|              15.0|             165.0|[8.0,3693.0,165.0...|[4.67246152320771...|\n",
      "|18.0|      8.0|       318.0|     150.0|3436.0|        11.0|     70.0|plymouth satellite\"\"|              18.0|             150.0|[8.0,3436.0,150.0...|[4.67246152320771...|\n",
      "|16.0|      8.0|       304.0|     150.0|3433.0|        12.0|     70.0|     amc rebel sst\"\"|              16.0|             150.0|[8.0,3433.0,150.0...|[4.67246152320771...|\n",
      "|17.0|      8.0|       302.0|     140.0|3449.0|        10.5|     70.0|       ford torino\"\"|              17.0|             140.0|[8.0,3449.0,140.0...|[4.67246152320771...|\n",
      "|15.0|      8.0|       429.0|      null|4341.0|        10.0|     70.0|  ford galaxie 500\"\"|              15.0|104.56675062972292|[8.0,4341.0,104.5...|[4.67246152320771...|\n",
      "|14.0|      8.0|       454.0|     220.0|4354.0|         9.0|     70.0|  chevrolet impala\"\"|              14.0|             220.0|[8.0,4354.0,220.0...|[4.67246152320771...|\n",
      "|14.0|      8.0|       440.0|     215.0|4312.0|         8.5|     70.0| plymouth fury iii\"\"|              14.0|             215.0|[8.0,4312.0,215.0...|[4.67246152320771...|\n",
      "|14.0|      8.0|       455.0|      null|4425.0|        10.0|     70.0|  pontiac catalina\"\"|              14.0|104.56675062972292|[8.0,4425.0,104.5...|[4.67246152320771...|\n",
      "|15.0|      8.0|       390.0|     190.0|3850.0|         8.5|     70.0|amc ambassador dpl\"\"|              15.0|             190.0|[8.0,3850.0,190.0...|[4.67246152320771...|\n",
      "|null|      4.0|       133.0|     115.0|3090.0|        17.5|     70.0|citroen ds-21 pal...|23.514572864321615|             115.0|[4.0,3090.0,115.0...|[2.33623076160385...|\n",
      "|null|      8.0|       350.0|     165.0|4142.0|        11.5|     70.0|chevrolet chevell...|23.514572864321615|             165.0|[8.0,4142.0,165.0...|[4.67246152320771...|\n",
      "|null|      8.0|       351.0|     153.0|4034.0|        11.0|     70.0|  ford torino (sw)\"\"|23.514572864321615|             153.0|[8.0,4034.0,153.0...|[4.67246152320771...|\n",
      "|null|      8.0|       383.0|     175.0|4166.0|        10.5|     70.0|plymouth satellit...|23.514572864321615|             175.0|[8.0,4166.0,175.0...|[4.67246152320771...|\n",
      "|null|      8.0|       360.0|     175.0|3850.0|        11.0|     70.0|amc rebel sst (sw)\"\"|23.514572864321615|             175.0|[8.0,3850.0,175.0...|[4.67246152320771...|\n",
      "|15.0|      8.0|       383.0|     170.0|3563.0|        10.0|     70.0|dodge challenger ...|              15.0|             170.0|[8.0,3563.0,170.0...|[4.67246152320771...|\n",
      "|14.0|      8.0|       340.0|     160.0|3609.0|         8.0|     70.0|plymouth 'cuda 340\"\"|              14.0|             160.0|[8.0,3609.0,160.0...|[4.67246152320771...|\n",
      "|null|      8.0|       302.0|     140.0|3353.0|         8.0|     70.0|ford mustang boss...|23.514572864321615|             140.0|[8.0,3353.0,140.0...|[4.67246152320771...|\n",
      "|15.0|      8.0|       400.0|     150.0|3761.0|         9.5|     70.0|chevrolet monte c...|              15.0|             150.0|[8.0,3761.0,150.0...|[4.67246152320771...|\n",
      "|14.0|      8.0|       455.0|     225.0|3086.0|        10.0|     70.0|buick estate wago...|              14.0|             225.0|[8.0,3086.0,225.0...|[4.67246152320771...|\n",
      "+----+---------+------------+----------+------+------------+---------+--------------------+------------------+------------------+--------------------+--------------------+\n",
      "only showing top 20 rows\n",
      "\n"
     ]
    }
   ],
   "source": [
    "scaled_data.show()"
   ]
  },
  {
   "cell_type": "markdown",
   "id": "e8fec585",
   "metadata": {},
   "source": [
    "#### Pipeline\n",
    "A pipeline is a series of activities or transformations. Machine learning is performed by implementing a set of tasks, that is collecting the data, cleaning the data, building the model, evaluating the model, etc."
   ]
  },
  {
   "cell_type": "code",
   "execution_count": 20,
   "id": "8342a5c4",
   "metadata": {},
   "outputs": [],
   "source": [
    "from pyspark.ml import Pipeline"
   ]
  },
  {
   "cell_type": "code",
   "execution_count": 21,
   "id": "8916ad0b",
   "metadata": {},
   "outputs": [],
   "source": [
    "# Initialize the dataframe\n",
    "data = df1"
   ]
  },
  {
   "cell_type": "code",
   "execution_count": 22,
   "id": "4936d9ad",
   "metadata": {},
   "outputs": [],
   "source": [
    "# Setting the stages of the pipeline\n",
    "pipeline = Pipeline(stages = [imputer, assembler, scaler])"
   ]
  },
  {
   "cell_type": "code",
   "execution_count": 23,
   "id": "98592429",
   "metadata": {},
   "outputs": [],
   "source": [
    "# Using .fit() and .transform() on the pipeline\n",
    "model = pipeline.fit(data)\n",
    "Final_output = model.transform(data)"
   ]
  },
  {
   "cell_type": "code",
   "execution_count": 24,
   "id": "3dfbbb5e",
   "metadata": {},
   "outputs": [
    {
     "name": "stdout",
     "output_type": "stream",
     "text": [
      "+----+---------+------------+----------+------+------------+---------+--------------------+------------------+------------------+--------------------+--------------------+\n",
      "| MPG|CYLINDERS|DISPLACEMENT|HORSEPOWER|WEIGHT|ACCELERATION|MODELYEAR|                NAME|           MPG-Out|    HORSEPOWER-Out|            features|      scaledFeatures|\n",
      "+----+---------+------------+----------+------+------------+---------+--------------------+------------------+------------------+--------------------+--------------------+\n",
      "|18.0|      8.0|       307.0|     130.0|3504.0|        12.0|     70.0|chevrolet chevell...|              18.0|             130.0|[8.0,3504.0,130.0...|[4.67246152320771...|\n",
      "|15.0|      8.0|       350.0|     165.0|3693.0|        11.5|     70.0| buick skylark 320\"\"|              15.0|             165.0|[8.0,3693.0,165.0...|[4.67246152320771...|\n",
      "|18.0|      8.0|       318.0|     150.0|3436.0|        11.0|     70.0|plymouth satellite\"\"|              18.0|             150.0|[8.0,3436.0,150.0...|[4.67246152320771...|\n",
      "|16.0|      8.0|       304.0|     150.0|3433.0|        12.0|     70.0|     amc rebel sst\"\"|              16.0|             150.0|[8.0,3433.0,150.0...|[4.67246152320771...|\n",
      "|17.0|      8.0|       302.0|     140.0|3449.0|        10.5|     70.0|       ford torino\"\"|              17.0|             140.0|[8.0,3449.0,140.0...|[4.67246152320771...|\n",
      "|15.0|      8.0|       429.0|      null|4341.0|        10.0|     70.0|  ford galaxie 500\"\"|              15.0|104.56675062972292|[8.0,4341.0,104.5...|[4.67246152320771...|\n",
      "|14.0|      8.0|       454.0|     220.0|4354.0|         9.0|     70.0|  chevrolet impala\"\"|              14.0|             220.0|[8.0,4354.0,220.0...|[4.67246152320771...|\n",
      "|14.0|      8.0|       440.0|     215.0|4312.0|         8.5|     70.0| plymouth fury iii\"\"|              14.0|             215.0|[8.0,4312.0,215.0...|[4.67246152320771...|\n",
      "|14.0|      8.0|       455.0|      null|4425.0|        10.0|     70.0|  pontiac catalina\"\"|              14.0|104.56675062972292|[8.0,4425.0,104.5...|[4.67246152320771...|\n",
      "|15.0|      8.0|       390.0|     190.0|3850.0|         8.5|     70.0|amc ambassador dpl\"\"|              15.0|             190.0|[8.0,3850.0,190.0...|[4.67246152320771...|\n",
      "|null|      4.0|       133.0|     115.0|3090.0|        17.5|     70.0|citroen ds-21 pal...|23.514572864321615|             115.0|[4.0,3090.0,115.0...|[2.33623076160385...|\n",
      "|null|      8.0|       350.0|     165.0|4142.0|        11.5|     70.0|chevrolet chevell...|23.514572864321615|             165.0|[8.0,4142.0,165.0...|[4.67246152320771...|\n",
      "|null|      8.0|       351.0|     153.0|4034.0|        11.0|     70.0|  ford torino (sw)\"\"|23.514572864321615|             153.0|[8.0,4034.0,153.0...|[4.67246152320771...|\n",
      "|null|      8.0|       383.0|     175.0|4166.0|        10.5|     70.0|plymouth satellit...|23.514572864321615|             175.0|[8.0,4166.0,175.0...|[4.67246152320771...|\n",
      "|null|      8.0|       360.0|     175.0|3850.0|        11.0|     70.0|amc rebel sst (sw)\"\"|23.514572864321615|             175.0|[8.0,3850.0,175.0...|[4.67246152320771...|\n",
      "|15.0|      8.0|       383.0|     170.0|3563.0|        10.0|     70.0|dodge challenger ...|              15.0|             170.0|[8.0,3563.0,170.0...|[4.67246152320771...|\n",
      "|14.0|      8.0|       340.0|     160.0|3609.0|         8.0|     70.0|plymouth 'cuda 340\"\"|              14.0|             160.0|[8.0,3609.0,160.0...|[4.67246152320771...|\n",
      "|null|      8.0|       302.0|     140.0|3353.0|         8.0|     70.0|ford mustang boss...|23.514572864321615|             140.0|[8.0,3353.0,140.0...|[4.67246152320771...|\n",
      "|15.0|      8.0|       400.0|     150.0|3761.0|         9.5|     70.0|chevrolet monte c...|              15.0|             150.0|[8.0,3761.0,150.0...|[4.67246152320771...|\n",
      "|14.0|      8.0|       455.0|     225.0|3086.0|        10.0|     70.0|buick estate wago...|              14.0|             225.0|[8.0,3086.0,225.0...|[4.67246152320771...|\n",
      "+----+---------+------------+----------+------+------------+---------+--------------------+------------------+------------------+--------------------+--------------------+\n",
      "only showing top 20 rows\n",
      "\n"
     ]
    }
   ],
   "source": [
    "# Output of the pipeline\n",
    "Final_output.show()"
   ]
  }
 ],
 "metadata": {
  "kernelspec": {
   "display_name": "Python 3 (ipykernel)",
   "language": "python",
   "name": "python3"
  },
  "language_info": {
   "codemirror_mode": {
    "name": "ipython",
    "version": 3
   },
   "file_extension": ".py",
   "mimetype": "text/x-python",
   "name": "python",
   "nbconvert_exporter": "python",
   "pygments_lexer": "ipython3",
   "version": "3.9.7"
  }
 },
 "nbformat": 4,
 "nbformat_minor": 5
}
