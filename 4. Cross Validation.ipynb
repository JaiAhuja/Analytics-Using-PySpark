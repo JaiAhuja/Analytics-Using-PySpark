{
 "cells": [
  {
   "cell_type": "code",
   "execution_count": 1,
   "id": "98a1271c",
   "metadata": {},
   "outputs": [],
   "source": [
    "import findspark\n",
    "findspark.init()\n",
    "findspark.find()\n",
    "import pyspark\n",
    "\n",
    "import os\n",
    "import functools as reduce\n",
    "from pyspark.context import SparkContext\n",
    "from pyspark.sql import DataFrame, SQLContext, SparkSession, Window\n",
    "from pyspark.sql.functions import *\n",
    "from pyspark.sql.types import *\n",
    "\n",
    "conf = pyspark.SparkConf().setAppName('Regularization').setMaster('local')\n",
    "sc = pyspark.SparkContext(conf = conf)\n",
    "spark = SparkSession(sc)\n",
    "sqlContext = SQLContext(sc)"
   ]
  },
  {
   "cell_type": "code",
   "execution_count": 2,
   "id": "473857a9",
   "metadata": {},
   "outputs": [
    {
     "data": {
      "text/html": [
       "\n",
       "            <div>\n",
       "                <p><b>SparkSession - in-memory</b></p>\n",
       "                \n",
       "        <div>\n",
       "            <p><b>SparkContext</b></p>\n",
       "\n",
       "            <p><a href=\"http://Jai-Ahuja:4040\">Spark UI</a></p>\n",
       "\n",
       "            <dl>\n",
       "              <dt>Version</dt>\n",
       "                <dd><code>v3.1.2</code></dd>\n",
       "              <dt>Master</dt>\n",
       "                <dd><code>local</code></dd>\n",
       "              <dt>AppName</dt>\n",
       "                <dd><code>Regularization</code></dd>\n",
       "            </dl>\n",
       "        </div>\n",
       "        \n",
       "            </div>\n",
       "        "
      ],
      "text/plain": [
       "<pyspark.sql.session.SparkSession at 0x2bdfcb67820>"
      ]
     },
     "execution_count": 2,
     "metadata": {},
     "output_type": "execute_result"
    }
   ],
   "source": [
    "spark"
   ]
  },
  {
   "cell_type": "code",
   "execution_count": 3,
   "id": "8fcbb9da",
   "metadata": {},
   "outputs": [],
   "source": [
    "from sklearn.datasets import load_diabetes\n",
    "from pyspark.ml.regression import LinearRegression\n",
    "from pyspark.ml.feature import VectorAssembler\n",
    "import numpy as np\n",
    "import pandas as pd\n",
    "import matplotlib.pyplot as plt\n",
    "%matplotlib inline"
   ]
  },
  {
   "cell_type": "code",
   "execution_count": 4,
   "id": "7ae7d611",
   "metadata": {},
   "outputs": [
    {
     "name": "stdout",
     "output_type": "stream",
     "text": [
      "+--------------------+------------------+-------------------+--------------------+--------------------+-------------------+-------------------+--------------------+-------------------+-------------------+-----+--------------------+\n",
      "|                 age|               sex|                bmi|                  bp|                  s1|                 s2|                 s3|                  s4|                 s5|                 s6|    y|            features|\n",
      "+--------------------+------------------+-------------------+--------------------+--------------------+-------------------+-------------------+--------------------+-------------------+-------------------+-----+--------------------+\n",
      "|  0.0380759064334241|0.0506801187398187| 0.0616962065186885|  0.0218723549949558| -0.0442234984244464|-0.0348207628376986|-0.0434008456520269|-0.00259226199818282| 0.0199084208763183|-0.0176461251598052|151.0|[0.03807590643342...|\n",
      "|-0.00188201652779104|-0.044641636506989|-0.0514740612388061| -0.0263278347173518|-0.00844872411121698| -0.019163339748222| 0.0744115640787594| -0.0394933828740919|-0.0683297436244215|  -0.09220404962683| 75.0|[-0.0018820165277...|\n",
      "|  0.0852989062966783|0.0506801187398187| 0.0444512133365941|-0.00567061055493425| -0.0455994512826475|-0.0341944659141195|-0.0323559322397657|-0.00259226199818282|0.00286377051894013|-0.0259303389894746|141.0|[0.08529890629667...|\n",
      "| -0.0890629393522603|-0.044641636506989|-0.0115950145052127| -0.0366564467985606|     0.0121905687618| 0.0249905933641021|-0.0360375700438527|  0.0343088588777263| 0.0226920225667445|-0.0093619113301358|206.0|[-0.0890629393522...|\n",
      "| 0.00538306037424807|-0.044641636506989|-0.0363846922044735|  0.0218723549949558| 0.00393485161259318| 0.0155961395104161| 0.0081420836051921|-0.00259226199818282|-0.0319914449413559|-0.0466408735636482|135.0|[0.00538306037424...|\n",
      "+--------------------+------------------+-------------------+--------------------+--------------------+-------------------+-------------------+--------------------+-------------------+-------------------+-----+--------------------+\n",
      "only showing top 5 rows\n",
      "\n"
     ]
    }
   ],
   "source": [
    "# Loading the dataset and converting it into spark dataframe\n",
    "diabetes = load_diabetes()\n",
    "df = pd.DataFrame(diabetes.data, columns=diabetes.feature_names)\n",
    "df[\"y\"] = diabetes.target\n",
    "sdf = spark.createDataFrame(df)\n",
    "\n",
    "assembler = VectorAssembler(inputCols=[col for col in sdf.columns if col != \"y\"],\n",
    "                           outputCol=\"features\")\n",
    "dataset = assembler.transform(sdf)\n",
    "dataset.show(5)"
   ]
  },
  {
   "cell_type": "code",
   "execution_count": 5,
   "id": "25ef75ef",
   "metadata": {},
   "outputs": [],
   "source": [
    "# Specifying the random seed so that train and test set always have the same set of rows respectively\n",
    "np.random.seed(0)"
   ]
  },
  {
   "cell_type": "code",
   "execution_count": 6,
   "id": "063e05de",
   "metadata": {},
   "outputs": [
    {
     "name": "stdout",
     "output_type": "stream",
     "text": [
      "R2 (training):  0.4874503973681076\n",
      "R2 (testing):  0.5303894499393103\n"
     ]
    }
   ],
   "source": [
    "train, test = dataset.randomSplit([0.5, 0.5], 25)\n",
    "lr = LinearRegression(featuresCol=\"features\", labelCol=\"y\")\n",
    "model = lr.fit(train)\n",
    "\n",
    "# Evaluating on train data\n",
    "summary_train = model.evaluate(train)\n",
    "print(\"R2 (training): \", summary_train.r2)\n",
    "\n",
    "# Evaluating on test data\n",
    "summary_test = model.evaluate(test)\n",
    "print(\"R2 (testing): \", summary_test.r2)"
   ]
  },
  {
   "cell_type": "code",
   "execution_count": 7,
   "id": "90ef3936",
   "metadata": {},
   "outputs": [],
   "source": [
    "# Now increasing the training fraction\n",
    "p_train = [0.6, 0.7, 0.7, 0.9]\n",
    "train_r2 = []\n",
    "test_r2 = []\n",
    "\n",
    "for p in p_train:\n",
    "    train, test = dataset.randomSplit([p, 1-p], 25)\n",
    "    lr = LinearRegression(featuresCol=\"features\", labelCol=\"y\")\n",
    "    model = lr.fit(train)\n",
    "\n",
    "    # Evaluating on train data\n",
    "    summary_train = model.evaluate(train)\n",
    "    train_r2.append(summary_train.r2)\n",
    "    \n",
    "    # Evaluating on test data\n",
    "    summary_test = model.evaluate(test)\n",
    "    test_r2.append(summary_test.r2)"
   ]
  },
  {
   "cell_type": "code",
   "execution_count": 8,
   "id": "e8b586c5",
   "metadata": {},
   "outputs": [
    {
     "data": {
      "text/plain": [
       "<matplotlib.legend.Legend at 0x2bd82483e80>"
      ]
     },
     "execution_count": 8,
     "metadata": {},
     "output_type": "execute_result"
    },
    {
     "data": {
      "image/png": "[encoded data removed]",
      "text/plain": [
       "<Figure size 432x288 with 1 Axes>"
      ]
     },
     "metadata": {
      "needs_background": "light"
     },
     "output_type": "display_data"
    }
   ],
   "source": [
    "# Plotting\n",
    "plt.plot(p_train, train_r2, \"ro-\", label = \"Train\")\n",
    "plt.plot(p_train, test_r2, \"g\", label = \"Test\")\n",
    "plt.xlabel(\"Training Size\")\n",
    "plt.ylabel(\"R2\")\n",
    "plt.legend()"
   ]
  }
 ],
 "metadata": {
  "kernelspec": {
   "display_name": "Python 3 (ipykernel)",
   "language": "python",
   "name": "python3"
  },
  "language_info": {
   "codemirror_mode": {
    "name": "ipython",
    "version": 3
   },
   "file_extension": ".py",
   "mimetype": "text/x-python",
   "name": "python",
   "nbconvert_exporter": "python",
   "pygments_lexer": "ipython3",
   "version": "3.9.7"
  }
 },
 "nbformat": 4,
 "nbformat_minor": 5
}
