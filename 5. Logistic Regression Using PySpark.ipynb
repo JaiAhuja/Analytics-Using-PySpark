{
 "cells": [
  {
   "cell_type": "code",
   "execution_count": 1,
   "id": "98a1271c",
   "metadata": {},
   "outputs": [],
   "source": [
    "import findspark\n",
    "findspark.init()\n",
    "findspark.find()\n",
    "import pyspark\n",
    "\n",
    "import os\n",
    "import functools as reduce\n",
    "from pyspark.context import SparkContext\n",
    "from pyspark.sql import DataFrame, SQLContext, SparkSession, Window\n",
    "from pyspark.sql.functions import *\n",
    "from pyspark.sql.types import *\n",
    "\n",
    "conf = pyspark.SparkConf().setAppName('CTR Prediction').setMaster('local')\n",
    "sc = pyspark.SparkContext(conf = conf)\n",
    "spark = SparkSession(sc)\n",
    "sqlContext = SQLContext(sc)"
   ]
  },
  {
   "cell_type": "code",
   "execution_count": 2,
   "id": "473857a9",
   "metadata": {},
   "outputs": [
    {
     "data": {
      "text/html": [
       "\n",
       "            <div>\n",
       "                <p><b>SparkSession - in-memory</b></p>\n",
       "                \n",
       "        <div>\n",
       "            <p><b>SparkContext</b></p>\n",
       "\n",
       "            <p><a href=\"http://Jai-Ahuja:4040\">Spark UI</a></p>\n",
       "\n",
       "            <dl>\n",
       "              <dt>Version</dt>\n",
       "                <dd><code>v3.1.2</code></dd>\n",
       "              <dt>Master</dt>\n",
       "                <dd><code>local</code></dd>\n",
       "              <dt>AppName</dt>\n",
       "                <dd><code>CTR Prediction</code></dd>\n",
       "            </dl>\n",
       "        </div>\n",
       "        \n",
       "            </div>\n",
       "        "
      ],
      "text/plain": [
       "<pyspark.sql.session.SparkSession at 0x21279c26790>"
      ]
     },
     "execution_count": 2,
     "metadata": {},
     "output_type": "execute_result"
    }
   ],
   "source": [
    "spark"
   ]
  },
  {
   "cell_type": "code",
   "execution_count": 3,
   "id": "0ca1d39a",
   "metadata": {},
   "outputs": [
    {
     "data": {
      "text/plain": [
       "'\\nDataset Link:\\n    https://raw.githubusercontent.com/JaiAhuja/Datasets/main/Analytics%20Using%20PySpark/ctr_traindata2.csv\\n'"
      ]
     },
     "execution_count": 3,
     "metadata": {},
     "output_type": "execute_result"
    }
   ],
   "source": [
    "\"\"\"\n",
    "Dataset Link:\n",
    "    https://raw.githubusercontent.com/JaiAhuja/Datasets/main/Analytics%20Using%20PySpark/ctr_traindata2.csv\n",
    "\"\"\""
   ]
  },
  {
   "cell_type": "code",
   "execution_count": 4,
   "id": "b8db73cc",
   "metadata": {},
   "outputs": [
    {
     "name": "stdout",
     "output_type": "stream",
     "text": [
      "root\n",
      " |-- id: decimal(20,0) (nullable = true)\n",
      " |-- click: integer (nullable = true)\n",
      " |-- hour: integer (nullable = true)\n",
      " |-- C1: integer (nullable = true)\n",
      " |-- banner_pos: integer (nullable = true)\n",
      " |-- site_id: string (nullable = true)\n",
      " |-- site_domain: string (nullable = true)\n",
      " |-- site_category: string (nullable = true)\n",
      " |-- app_id: string (nullable = true)\n",
      " |-- app_domain: string (nullable = true)\n",
      " |-- app_category: string (nullable = true)\n",
      " |-- device_id: string (nullable = true)\n",
      " |-- device_ip: string (nullable = true)\n",
      " |-- device_model: string (nullable = true)\n",
      " |-- device_type: integer (nullable = true)\n",
      " |-- device_conn_type: integer (nullable = true)\n",
      " |-- C14: integer (nullable = true)\n",
      " |-- C15: integer (nullable = true)\n",
      " |-- C16: integer (nullable = true)\n",
      " |-- C17: integer (nullable = true)\n",
      " |-- C18: integer (nullable = true)\n",
      " |-- C19: integer (nullable = true)\n",
      " |-- C20: integer (nullable = true)\n",
      " |-- C21: integer (nullable = true)\n",
      "\n"
     ]
    }
   ],
   "source": [
    "# Reading the dataset\n",
    "df = spark.read.csv(r\"D:\\Data Science\\IIITB\\Data Engineering - II\\Module - 6 (Analytics Using PySpark)\\3. Logistic Regression Using PySpark\\ctr_traindata2.csv\", header=True, inferSchema=True)\n",
    "df.printSchema()"
   ]
  },
  {
   "cell_type": "code",
   "execution_count": 5,
   "id": "e37a7111",
   "metadata": {},
   "outputs": [
    {
     "name": "stdout",
     "output_type": "stream",
     "text": [
      "+--------------------+-----+--------+----+----------+--------+-----------+-------------+--------+----------+------------+---------+---------+------------+-----------+----------------+-----+---+---+----+---+---+------+---+\n",
      "|                  id|click|    hour|  C1|banner_pos| site_id|site_domain|site_category|  app_id|app_domain|app_category|device_id|device_ip|device_model|device_type|device_conn_type|  C14|C15|C16| C17|C18|C19|   C20|C21|\n",
      "+--------------------+-----+--------+----+----------+--------+-----------+-------------+--------+----------+------------+---------+---------+------------+-----------+----------------+-----+---+---+----+---+---+------+---+\n",
      "| 1000009418151094273|    0|14102100|1005|         0|1fbe01fe|   f3845767|     28905ebd|ecad2386|  7801e8d9|    07d7df22| a99f214a| ddd2926e|    44956a24|          1|               2|15706|320| 50|1722|  0| 35|    -1| 79|\n",
      "|10000169349117863715|    0|14102100|1005|         0|1fbe01fe|   f3845767|     28905ebd|ecad2386|  7801e8d9|    07d7df22| a99f214a| 96809ac8|    711ee120|          1|               0|15704|320| 50|1722|  0| 35|100084| 79|\n",
      "|10000371904215119486|    0|14102100|1005|         0|1fbe01fe|   f3845767|     28905ebd|ecad2386|  7801e8d9|    07d7df22| a99f214a| b3cf8def|    8a4875bd|          1|               0|15704|320| 50|1722|  0| 35|100084| 79|\n",
      "|10000640724480838376|    0|14102100|1005|         0|1fbe01fe|   f3845767|     28905ebd|ecad2386|  7801e8d9|    07d7df22| a99f214a| e8275b8f|    6332421a|          1|               0|15706|320| 50|1722|  0| 35|100084| 79|\n",
      "|10000679056417042096|    0|14102100|1005|         1|fe8cc448|   9166c161|     0569f928|ecad2386|  7801e8d9|    07d7df22| a99f214a| 9644d0bf|    779d90c2|          1|               0|18993|320| 50|2161|  0| 35|    -1|157|\n",
      "|10000720757801103869|    0|14102100|1005|         0|d6137915|   bb1ef334|     f028772b|ecad2386|  7801e8d9|    07d7df22| a99f214a| 05241af0|    8a4875bd|          1|               0|16920|320| 50|1899|  0|431|100077|117|\n",
      "|10000724729988544911|    0|14102100|1005|         0|8fda644b|   25d4cfcd|     f028772b|ecad2386|  7801e8d9|    07d7df22| a99f214a| b264c159|    be6db1d7|          1|               0|20362|320| 50|2333|  0| 39|    -1|157|\n",
      "|10000918755742328737|    0|14102100|1005|         1|e151e245|   7e091613|     f028772b|ecad2386|  7801e8d9|    07d7df22| a99f214a| e6f67278|    be74e6fe|          1|               0|20632|320| 50|2374|  3| 39|    -1| 23|\n",
      "|10000949271186029916|    1|14102100|1005|         0|1fbe01fe|   f3845767|     28905ebd|ecad2386|  7801e8d9|    07d7df22| a99f214a| 37e8da74|    5db079b5|          1|               2|15707|320| 50|1722|  0| 35|    -1| 79|\n",
      "|10001264480619467364|    0|14102100|1002|         0|84c7ba46|   c4e18dd6|     50e219e0|ecad2386|  7801e8d9|    07d7df22| c357dbff| f1ac7184|    373ecbe6|          0|               0|21689|320| 50|2496|  3|167|100191| 23|\n",
      "|10001868339616595934|    0|14102100|1005|         1|e151e245|   7e091613|     f028772b|ecad2386|  7801e8d9|    07d7df22| a99f214a| 5d877109|    8f5c9827|          1|               0|17747|320| 50|1974|  2| 39|100019| 33|\n",
      "|10001966791793526909|    0|14102100|1005|         0|1fbe01fe|   f3845767|     28905ebd|ecad2386|  7801e8d9|    07d7df22| a99f214a| 6f407810|    1f0bc64f|          1|               0|15701|320| 50|1722|  0| 35|    -1| 79|\n",
      "|10002028568167339219|    0|14102100|1005|         0|9e8cf15d|   0d3cb7be|     f028772b|ecad2386|  7801e8d9|    07d7df22| a99f214a| 58811cdf|    8326c04b|          1|               2|20596|320| 50|2161|  0| 35|100148|157|\n",
      "|10002044883120869786|    0|14102100|1005|         0|d6137915|   bb1ef334|     f028772b|ecad2386|  7801e8d9|    07d7df22| a99f214a| 72aab6df|    04258293|          1|               0|19771|320| 50|2227|  0|687|100077| 48|\n",
      "|10002518649031436658|    0|14102100|1005|         0|85f751fd|   c4e18dd6|     50e219e0|98fed791|  d9b5648e|    0f2161f8| a99f214a| 6dec2796|    aad45b01|          1|               0|20984|320| 50|2371|  0|551|    -1| 46|\n",
      "|10003539039235338011|    0|14102100|1005|         0|1fbe01fe|   f3845767|     28905ebd|ecad2386|  7801e8d9|    07d7df22| a99f214a| a4f47b2e|    8a4875bd|          1|               0|15699|320| 50|1722|  0| 35|100084| 79|\n",
      "|10003585669470236873|    0|14102100|1005|         0|d9750ee7|   98572c79|     f028772b|ecad2386|  7801e8d9|    07d7df22| a99f214a| 9b1fe278|    128f4ba1|          1|               0|17914|320| 50|2043|  2| 39|    -1| 32|\n",
      "|10004105575081229495|    0|14102100|1005|         0|1fbe01fe|   f3845767|     28905ebd|ecad2386|  7801e8d9|    07d7df22| a99f214a| c26c53cf|    be87996b|          1|               2|15708|320| 50|1722|  0| 35|100084| 79|\n",
      "|10004181428767727519|    0|14102100|1005|         1|0c2fe9d6|   27e3c518|     28905ebd|ecad2386|  7801e8d9|    07d7df22| a99f214a| b7a69808|    158e4944|          1|               0| 6558|320| 50| 571|  2| 39|    -1| 32|\n",
      "|10004482643316086592|    0|14102100|1005|         0|85f751fd|   c4e18dd6|     50e219e0|66a5f0f3|  d9b5648e|    cef3e649| a99f214a| fa60af6b|    b4b19c97|          1|               0|21234|320| 50|2434|  3|163|100088| 61|\n",
      "+--------------------+-----+--------+----+----------+--------+-----------+-------------+--------+----------+------------+---------+---------+------------+-----------+----------------+-----+---+---+----+---+---+------+---+\n",
      "only showing top 20 rows\n",
      "\n"
     ]
    }
   ],
   "source": [
    "df.show()"
   ]
  },
  {
   "cell_type": "code",
   "execution_count": 6,
   "id": "6636a60e",
   "metadata": {},
   "outputs": [
    {
     "data": {
      "text/plain": [
       "['id',\n",
       " 'click',\n",
       " 'hour',\n",
       " 'C1',\n",
       " 'banner_pos',\n",
       " 'site_id',\n",
       " 'site_domain',\n",
       " 'site_category',\n",
       " 'app_id',\n",
       " 'app_domain',\n",
       " 'app_category',\n",
       " 'device_id',\n",
       " 'device_ip',\n",
       " 'device_model',\n",
       " 'device_type',\n",
       " 'device_conn_type',\n",
       " 'C14',\n",
       " 'C15',\n",
       " 'C16',\n",
       " 'C17',\n",
       " 'C18',\n",
       " 'C19',\n",
       " 'C20',\n",
       " 'C21']"
      ]
     },
     "execution_count": 6,
     "metadata": {},
     "output_type": "execute_result"
    }
   ],
   "source": [
    "df.columns"
   ]
  },
  {
   "cell_type": "code",
   "execution_count": 7,
   "id": "fc9c2216",
   "metadata": {},
   "outputs": [
    {
     "data": {
      "text/plain": [
       "[Row(id=Decimal('1000009418151094273'), click=0, hour=14102100, C1=1005, banner_pos=0, site_id='1fbe01fe', site_domain='f3845767', site_category='28905ebd', app_id='ecad2386', app_domain='7801e8d9', app_category='07d7df22', device_id='a99f214a', device_ip='ddd2926e', device_model='44956a24', device_type=1, device_conn_type=2, C14=15706, C15=320, C16=50, C17=1722, C18=0, C19=35, C20=-1, C21=79),\n",
       " Row(id=Decimal('10000169349117863715'), click=0, hour=14102100, C1=1005, banner_pos=0, site_id='1fbe01fe', site_domain='f3845767', site_category='28905ebd', app_id='ecad2386', app_domain='7801e8d9', app_category='07d7df22', device_id='a99f214a', device_ip='96809ac8', device_model='711ee120', device_type=1, device_conn_type=0, C14=15704, C15=320, C16=50, C17=1722, C18=0, C19=35, C20=100084, C21=79),\n",
       " Row(id=Decimal('10000371904215119486'), click=0, hour=14102100, C1=1005, banner_pos=0, site_id='1fbe01fe', site_domain='f3845767', site_category='28905ebd', app_id='ecad2386', app_domain='7801e8d9', app_category='07d7df22', device_id='a99f214a', device_ip='b3cf8def', device_model='8a4875bd', device_type=1, device_conn_type=0, C14=15704, C15=320, C16=50, C17=1722, C18=0, C19=35, C20=100084, C21=79),\n",
       " Row(id=Decimal('10000640724480838376'), click=0, hour=14102100, C1=1005, banner_pos=0, site_id='1fbe01fe', site_domain='f3845767', site_category='28905ebd', app_id='ecad2386', app_domain='7801e8d9', app_category='07d7df22', device_id='a99f214a', device_ip='e8275b8f', device_model='6332421a', device_type=1, device_conn_type=0, C14=15706, C15=320, C16=50, C17=1722, C18=0, C19=35, C20=100084, C21=79),\n",
       " Row(id=Decimal('10000679056417042096'), click=0, hour=14102100, C1=1005, banner_pos=1, site_id='fe8cc448', site_domain='9166c161', site_category='0569f928', app_id='ecad2386', app_domain='7801e8d9', app_category='07d7df22', device_id='a99f214a', device_ip='9644d0bf', device_model='779d90c2', device_type=1, device_conn_type=0, C14=18993, C15=320, C16=50, C17=2161, C18=0, C19=35, C20=-1, C21=157)]"
      ]
     },
     "execution_count": 7,
     "metadata": {},
     "output_type": "execute_result"
    }
   ],
   "source": [
    "df.head(5)"
   ]
  },
  {
   "cell_type": "code",
   "execution_count": 8,
   "id": "6e0ea48b",
   "metadata": {},
   "outputs": [],
   "source": [
    "# Removing columns which are String and not required\n",
    "df_selected = df.select(\"click\", \"C1\", \"banner_pos\", \"device_type\", \"device_conn_type\", \"C14\", \"C15\", \"C16\", \"C17\", \"C18\", \"C19\", \"C20\", \"C21\")"
   ]
  },
  {
   "cell_type": "code",
   "execution_count": 9,
   "id": "5a3b6b31",
   "metadata": {},
   "outputs": [
    {
     "data": {
      "text/plain": [
       "Row(click=0, C1=1005, banner_pos=0, device_type=1, device_conn_type=2, C14=15706, C15=320, C16=50, C17=1722, C18=0, C19=35, C20=-1, C21=79)"
      ]
     },
     "execution_count": 9,
     "metadata": {},
     "output_type": "execute_result"
    }
   ],
   "source": [
    "df_selected.head()"
   ]
  },
  {
   "cell_type": "code",
   "execution_count": 10,
   "id": "b2c7d0bf",
   "metadata": {},
   "outputs": [
    {
     "name": "stdout",
     "output_type": "stream",
     "text": [
      "+-----+----+----------+-----------+----------------+-----+---+---+----+---+---+------+---+\n",
      "|click|  C1|banner_pos|device_type|device_conn_type|  C14|C15|C16| C17|C18|C19|   C20|C21|\n",
      "+-----+----+----------+-----------+----------------+-----+---+---+----+---+---+------+---+\n",
      "|    0|1005|         0|          1|               2|15706|320| 50|1722|  0| 35|    -1| 79|\n",
      "|    0|1005|         0|          1|               0|15704|320| 50|1722|  0| 35|100084| 79|\n",
      "|    0|1005|         0|          1|               0|15704|320| 50|1722|  0| 35|100084| 79|\n",
      "|    0|1005|         0|          1|               0|15706|320| 50|1722|  0| 35|100084| 79|\n",
      "|    0|1005|         1|          1|               0|18993|320| 50|2161|  0| 35|    -1|157|\n",
      "|    0|1005|         0|          1|               0|16920|320| 50|1899|  0|431|100077|117|\n",
      "|    0|1005|         0|          1|               0|20362|320| 50|2333|  0| 39|    -1|157|\n",
      "|    0|1005|         1|          1|               0|20632|320| 50|2374|  3| 39|    -1| 23|\n",
      "|    1|1005|         0|          1|               2|15707|320| 50|1722|  0| 35|    -1| 79|\n",
      "|    0|1002|         0|          0|               0|21689|320| 50|2496|  3|167|100191| 23|\n",
      "|    0|1005|         1|          1|               0|17747|320| 50|1974|  2| 39|100019| 33|\n",
      "|    0|1005|         0|          1|               0|15701|320| 50|1722|  0| 35|    -1| 79|\n",
      "|    0|1005|         0|          1|               2|20596|320| 50|2161|  0| 35|100148|157|\n",
      "|    0|1005|         0|          1|               0|19771|320| 50|2227|  0|687|100077| 48|\n",
      "|    0|1005|         0|          1|               0|20984|320| 50|2371|  0|551|    -1| 46|\n",
      "|    0|1005|         0|          1|               0|15699|320| 50|1722|  0| 35|100084| 79|\n",
      "|    0|1005|         0|          1|               0|17914|320| 50|2043|  2| 39|    -1| 32|\n",
      "|    0|1005|         0|          1|               2|15708|320| 50|1722|  0| 35|100084| 79|\n",
      "|    0|1005|         1|          1|               0| 6558|320| 50| 571|  2| 39|    -1| 32|\n",
      "|    0|1005|         0|          1|               0|21234|320| 50|2434|  3|163|100088| 61|\n",
      "+-----+----+----------+-----------+----------------+-----+---+---+----+---+---+------+---+\n",
      "only showing top 20 rows\n",
      "\n"
     ]
    }
   ],
   "source": [
    "df_selected.show()"
   ]
  },
  {
   "cell_type": "code",
   "execution_count": 11,
   "id": "be0e6a18",
   "metadata": {},
   "outputs": [
    {
     "name": "stdout",
     "output_type": "stream",
     "text": [
      "+-----+\n",
      "|click|\n",
      "+-----+\n",
      "|    1|\n",
      "|    0|\n",
      "+-----+\n",
      "\n"
     ]
    }
   ],
   "source": [
    "df_selected.select(\"click\").distinct().show()"
   ]
  },
  {
   "cell_type": "code",
   "execution_count": 12,
   "id": "791e8652",
   "metadata": {},
   "outputs": [
    {
     "name": "stdout",
     "output_type": "stream",
     "text": [
      "+-----+-----+\n",
      "|click|count|\n",
      "+-----+-----+\n",
      "|    1|17490|\n",
      "|    0|82509|\n",
      "+-----+-----+\n",
      "\n"
     ]
    }
   ],
   "source": [
    "df_selected.groupby(\"click\").count().show()"
   ]
  },
  {
   "cell_type": "code",
   "execution_count": 13,
   "id": "8864d40f",
   "metadata": {},
   "outputs": [
    {
     "name": "stdout",
     "output_type": "stream",
     "text": [
      "+------------+\n",
      "|count(click)|\n",
      "+------------+\n",
      "|           2|\n",
      "+------------+\n",
      "\n"
     ]
    }
   ],
   "source": [
    "df_selected.agg(countDistinct(\"click\")).show()"
   ]
  },
  {
   "cell_type": "code",
   "execution_count": 14,
   "id": "b52f3ff9",
   "metadata": {},
   "outputs": [
    {
     "name": "stdout",
     "output_type": "stream",
     "text": [
      "+-----+---+----------+-----------+----------------+---+---+---+---+---+---+---+---+\n",
      "|click| C1|banner_pos|device_type|device_conn_type|C14|C15|C16|C17|C18|C19|C20|C21|\n",
      "+-----+---+----------+-----------+----------------+---+---+---+---+---+---+---+---+\n",
      "|    2|  6|         5|          4|               4|420|  5|  6|128|  4| 37|137| 29|\n",
      "+-----+---+----------+-----------+----------------+---+---+---+---+---+---+---+---+\n",
      "\n"
     ]
    }
   ],
   "source": [
    "df_selected.agg(*(countDistinct(col(c)).alias(c) for c in df_selected.columns)).show()"
   ]
  },
  {
   "cell_type": "code",
   "execution_count": 15,
   "id": "fb4b704d",
   "metadata": {},
   "outputs": [],
   "source": [
    "# Since, many columns will be created in One Hot Encoding. Therefore, avoiding the columns with huge distinct counts\n",
    "df_filtered = df_selected.select([\"click\", \"C1\", \"banner_pos\", \"device_type\", \"device_conn_type\", \"C15\", \"C16\", \"C18\"])"
   ]
  },
  {
   "cell_type": "code",
   "execution_count": 16,
   "id": "dcf2572c",
   "metadata": {},
   "outputs": [
    {
     "name": "stdout",
     "output_type": "stream",
     "text": [
      "+-----+----+----------+-----------+----------------+---+---+---+\n",
      "|click|  C1|banner_pos|device_type|device_conn_type|C15|C16|C18|\n",
      "+-----+----+----------+-----------+----------------+---+---+---+\n",
      "|    0|1005|         0|          1|               2|320| 50|  0|\n",
      "|    0|1005|         0|          1|               0|320| 50|  0|\n",
      "|    0|1005|         0|          1|               0|320| 50|  0|\n",
      "|    0|1005|         0|          1|               0|320| 50|  0|\n",
      "|    0|1005|         1|          1|               0|320| 50|  0|\n",
      "|    0|1005|         0|          1|               0|320| 50|  0|\n",
      "|    0|1005|         0|          1|               0|320| 50|  0|\n",
      "|    0|1005|         1|          1|               0|320| 50|  3|\n",
      "|    1|1005|         0|          1|               2|320| 50|  0|\n",
      "|    0|1002|         0|          0|               0|320| 50|  3|\n",
      "|    0|1005|         1|          1|               0|320| 50|  2|\n",
      "|    0|1005|         0|          1|               0|320| 50|  0|\n",
      "|    0|1005|         0|          1|               2|320| 50|  0|\n",
      "|    0|1005|         0|          1|               0|320| 50|  0|\n",
      "|    0|1005|         0|          1|               0|320| 50|  0|\n",
      "|    0|1005|         0|          1|               0|320| 50|  0|\n",
      "|    0|1005|         0|          1|               0|320| 50|  2|\n",
      "|    0|1005|         0|          1|               2|320| 50|  0|\n",
      "|    0|1005|         1|          1|               0|320| 50|  2|\n",
      "|    0|1005|         0|          1|               0|320| 50|  3|\n",
      "+-----+----+----------+-----------+----------------+---+---+---+\n",
      "only showing top 20 rows\n",
      "\n"
     ]
    }
   ],
   "source": [
    "df_filtered.show()"
   ]
  },
  {
   "cell_type": "code",
   "execution_count": 17,
   "id": "d735a2e1",
   "metadata": {},
   "outputs": [
    {
     "name": "stdout",
     "output_type": "stream",
     "text": [
      "+-----+---+----------+-----------+----------------+---+---+---+\n",
      "|click| C1|banner_pos|device_type|device_conn_type|C15|C16|C18|\n",
      "+-----+---+----------+-----------+----------------+---+---+---+\n",
      "|    2|  6|         5|          4|               4|  5|  6|  4|\n",
      "+-----+---+----------+-----------+----------------+---+---+---+\n",
      "\n"
     ]
    }
   ],
   "source": [
    "df_filtered.agg(*(countDistinct(col(c)).alias(c) for c in df_filtered.columns)).show()"
   ]
  },
  {
   "cell_type": "code",
   "execution_count": 18,
   "id": "d170601e",
   "metadata": {},
   "outputs": [
    {
     "name": "stdout",
     "output_type": "stream",
     "text": [
      "root\n",
      " |-- click: integer (nullable = true)\n",
      " |-- C1: integer (nullable = true)\n",
      " |-- banner_pos: integer (nullable = true)\n",
      " |-- device_type: integer (nullable = true)\n",
      " |-- device_conn_type: integer (nullable = true)\n",
      " |-- C15: integer (nullable = true)\n",
      " |-- C16: integer (nullable = true)\n",
      " |-- C18: integer (nullable = true)\n",
      "\n"
     ]
    }
   ],
   "source": [
    "df_filtered.printSchema()"
   ]
  },
  {
   "cell_type": "markdown",
   "id": "f0c025a4",
   "metadata": {},
   "source": [
    "### Data Preparation"
   ]
  },
  {
   "cell_type": "code",
   "execution_count": 19,
   "id": "3ed34017",
   "metadata": {},
   "outputs": [],
   "source": [
    "from pyspark.ml import Pipeline\n",
    "from pyspark.ml.feature import VectorAssembler, StringIndexer, OneHotEncoder"
   ]
  },
  {
   "cell_type": "code",
   "execution_count": 20,
   "id": "adde3366",
   "metadata": {},
   "outputs": [],
   "source": [
    "OHE = OneHotEncoder(inputCols=['C1', 'banner_pos', 'device_type', 'device_conn_type','C15', 'C16', 'C18'],\n",
    "                    outputCols=['C1_encoded', 'banner_pos_encoded', 'device_type_encoded', 'device_conn_type_encoded', 'C15_encoded','C16_encoded', 'C18_encoded'])"
   ]
  },
  {
   "cell_type": "code",
   "execution_count": 21,
   "id": "1b9ddccb",
   "metadata": {},
   "outputs": [],
   "source": [
    "# Vector Assembler\n",
    "vec_assembler = VectorAssembler(inputCols=['C1_encoded', 'banner_pos_encoded', 'device_type_encoded', 'device_conn_type_encoded', 'C15_encoded','C16_encoded', 'C18_encoded'],\n",
    "                               outputCol=\"features\")"
   ]
  },
  {
   "cell_type": "code",
   "execution_count": 22,
   "id": "45950790",
   "metadata": {},
   "outputs": [],
   "source": [
    "# Pipeline\n",
    "final_pipeline = Pipeline(stages=[OHE, vec_assembler])"
   ]
  },
  {
   "cell_type": "code",
   "execution_count": 23,
   "id": "57e1e770",
   "metadata": {},
   "outputs": [
    {
     "name": "stdout",
     "output_type": "stream",
     "text": [
      "+-----+----+----------+-----------+----------------+---+---+---+-------------------+----------------+------------------+-------------+-------------------+------------------------+-----------------+--------------------+\n",
      "|click|  C1|banner_pos|device_type|device_conn_type|C15|C16|C18|device_type_encoded|     C16_encoded|banner_pos_encoded|  C18_encoded|         C1_encoded|device_conn_type_encoded|      C15_encoded|            features|\n",
      "+-----+----+----------+-----------+----------------+---+---+---+-------------------+----------------+------------------+-------------+-------------------+------------------------+-----------------+--------------------+\n",
      "|    0|1005|         0|          1|               2|320| 50|  0|      (5,[1],[1.0])|(480,[50],[1.0])|     (5,[0],[1.0])|(3,[0],[1.0])|(1010,[1005],[1.0])|           (5,[2],[1.0])|(728,[320],[1.0])|(2236,[1005,1010,...|\n",
      "|    0|1005|         0|          1|               0|320| 50|  0|      (5,[1],[1.0])|(480,[50],[1.0])|     (5,[0],[1.0])|(3,[0],[1.0])|(1010,[1005],[1.0])|           (5,[0],[1.0])|(728,[320],[1.0])|(2236,[1005,1010,...|\n",
      "|    0|1005|         0|          1|               0|320| 50|  0|      (5,[1],[1.0])|(480,[50],[1.0])|     (5,[0],[1.0])|(3,[0],[1.0])|(1010,[1005],[1.0])|           (5,[0],[1.0])|(728,[320],[1.0])|(2236,[1005,1010,...|\n",
      "|    0|1005|         0|          1|               0|320| 50|  0|      (5,[1],[1.0])|(480,[50],[1.0])|     (5,[0],[1.0])|(3,[0],[1.0])|(1010,[1005],[1.0])|           (5,[0],[1.0])|(728,[320],[1.0])|(2236,[1005,1010,...|\n",
      "|    0|1005|         1|          1|               0|320| 50|  0|      (5,[1],[1.0])|(480,[50],[1.0])|     (5,[1],[1.0])|(3,[0],[1.0])|(1010,[1005],[1.0])|           (5,[0],[1.0])|(728,[320],[1.0])|(2236,[1005,1011,...|\n",
      "|    0|1005|         0|          1|               0|320| 50|  0|      (5,[1],[1.0])|(480,[50],[1.0])|     (5,[0],[1.0])|(3,[0],[1.0])|(1010,[1005],[1.0])|           (5,[0],[1.0])|(728,[320],[1.0])|(2236,[1005,1010,...|\n",
      "|    0|1005|         0|          1|               0|320| 50|  0|      (5,[1],[1.0])|(480,[50],[1.0])|     (5,[0],[1.0])|(3,[0],[1.0])|(1010,[1005],[1.0])|           (5,[0],[1.0])|(728,[320],[1.0])|(2236,[1005,1010,...|\n",
      "|    0|1005|         1|          1|               0|320| 50|  3|      (5,[1],[1.0])|(480,[50],[1.0])|     (5,[1],[1.0])|    (3,[],[])|(1010,[1005],[1.0])|           (5,[0],[1.0])|(728,[320],[1.0])|(2236,[1005,1011,...|\n",
      "|    1|1005|         0|          1|               2|320| 50|  0|      (5,[1],[1.0])|(480,[50],[1.0])|     (5,[0],[1.0])|(3,[0],[1.0])|(1010,[1005],[1.0])|           (5,[2],[1.0])|(728,[320],[1.0])|(2236,[1005,1010,...|\n",
      "|    0|1002|         0|          0|               0|320| 50|  3|      (5,[0],[1.0])|(480,[50],[1.0])|     (5,[0],[1.0])|    (3,[],[])|(1010,[1002],[1.0])|           (5,[0],[1.0])|(728,[320],[1.0])|(2236,[1002,1010,...|\n",
      "|    0|1005|         1|          1|               0|320| 50|  2|      (5,[1],[1.0])|(480,[50],[1.0])|     (5,[1],[1.0])|(3,[2],[1.0])|(1010,[1005],[1.0])|           (5,[0],[1.0])|(728,[320],[1.0])|(2236,[1005,1011,...|\n",
      "|    0|1005|         0|          1|               0|320| 50|  0|      (5,[1],[1.0])|(480,[50],[1.0])|     (5,[0],[1.0])|(3,[0],[1.0])|(1010,[1005],[1.0])|           (5,[0],[1.0])|(728,[320],[1.0])|(2236,[1005,1010,...|\n",
      "|    0|1005|         0|          1|               2|320| 50|  0|      (5,[1],[1.0])|(480,[50],[1.0])|     (5,[0],[1.0])|(3,[0],[1.0])|(1010,[1005],[1.0])|           (5,[2],[1.0])|(728,[320],[1.0])|(2236,[1005,1010,...|\n",
      "|    0|1005|         0|          1|               0|320| 50|  0|      (5,[1],[1.0])|(480,[50],[1.0])|     (5,[0],[1.0])|(3,[0],[1.0])|(1010,[1005],[1.0])|           (5,[0],[1.0])|(728,[320],[1.0])|(2236,[1005,1010,...|\n",
      "|    0|1005|         0|          1|               0|320| 50|  0|      (5,[1],[1.0])|(480,[50],[1.0])|     (5,[0],[1.0])|(3,[0],[1.0])|(1010,[1005],[1.0])|           (5,[0],[1.0])|(728,[320],[1.0])|(2236,[1005,1010,...|\n",
      "|    0|1005|         0|          1|               0|320| 50|  0|      (5,[1],[1.0])|(480,[50],[1.0])|     (5,[0],[1.0])|(3,[0],[1.0])|(1010,[1005],[1.0])|           (5,[0],[1.0])|(728,[320],[1.0])|(2236,[1005,1010,...|\n",
      "|    0|1005|         0|          1|               0|320| 50|  2|      (5,[1],[1.0])|(480,[50],[1.0])|     (5,[0],[1.0])|(3,[2],[1.0])|(1010,[1005],[1.0])|           (5,[0],[1.0])|(728,[320],[1.0])|(2236,[1005,1010,...|\n",
      "|    0|1005|         0|          1|               2|320| 50|  0|      (5,[1],[1.0])|(480,[50],[1.0])|     (5,[0],[1.0])|(3,[0],[1.0])|(1010,[1005],[1.0])|           (5,[2],[1.0])|(728,[320],[1.0])|(2236,[1005,1010,...|\n",
      "|    0|1005|         1|          1|               0|320| 50|  2|      (5,[1],[1.0])|(480,[50],[1.0])|     (5,[1],[1.0])|(3,[2],[1.0])|(1010,[1005],[1.0])|           (5,[0],[1.0])|(728,[320],[1.0])|(2236,[1005,1011,...|\n",
      "|    0|1005|         0|          1|               0|320| 50|  3|      (5,[1],[1.0])|(480,[50],[1.0])|     (5,[0],[1.0])|    (3,[],[])|(1010,[1005],[1.0])|           (5,[0],[1.0])|(728,[320],[1.0])|(2236,[1005,1010,...|\n",
      "+-----+----+----------+-----------+----------------+---+---+---+-------------------+----------------+------------------+-------------+-------------------+------------------------+-----------------+--------------------+\n",
      "only showing top 20 rows\n",
      "\n"
     ]
    }
   ],
   "source": [
    "piped_data = final_pipeline.fit(df_filtered).transform(df_filtered)\n",
    "piped_data.show()"
   ]
  },
  {
   "cell_type": "code",
   "execution_count": 24,
   "id": "77cc6df2",
   "metadata": {},
   "outputs": [
    {
     "data": {
      "text/plain": [
       "['click',\n",
       " 'C1',\n",
       " 'banner_pos',\n",
       " 'device_type',\n",
       " 'device_conn_type',\n",
       " 'C15',\n",
       " 'C16',\n",
       " 'C18',\n",
       " 'device_type_encoded',\n",
       " 'C16_encoded',\n",
       " 'banner_pos_encoded',\n",
       " 'C18_encoded',\n",
       " 'C1_encoded',\n",
       " 'device_conn_type_encoded',\n",
       " 'C15_encoded',\n",
       " 'features']"
      ]
     },
     "execution_count": 24,
     "metadata": {},
     "output_type": "execute_result"
    }
   ],
   "source": [
    "piped_data.columns"
   ]
  },
  {
   "cell_type": "code",
   "execution_count": 25,
   "id": "e27aec51",
   "metadata": {},
   "outputs": [
    {
     "name": "stdout",
     "output_type": "stream",
     "text": [
      "+-----+----+----------+-----------+----------------+---+---+---+-------------------+----------------+------------------+-------------+-------------------+------------------------+-----------------+--------------------+\n",
      "|label|  C1|banner_pos|device_type|device_conn_type|C15|C16|C18|device_type_encoded|     C16_encoded|banner_pos_encoded|  C18_encoded|         C1_encoded|device_conn_type_encoded|      C15_encoded|            features|\n",
      "+-----+----+----------+-----------+----------------+---+---+---+-------------------+----------------+------------------+-------------+-------------------+------------------------+-----------------+--------------------+\n",
      "|    0|1005|         0|          1|               2|320| 50|  0|      (5,[1],[1.0])|(480,[50],[1.0])|     (5,[0],[1.0])|(3,[0],[1.0])|(1010,[1005],[1.0])|           (5,[2],[1.0])|(728,[320],[1.0])|(2236,[1005,1010,...|\n",
      "|    0|1005|         0|          1|               0|320| 50|  0|      (5,[1],[1.0])|(480,[50],[1.0])|     (5,[0],[1.0])|(3,[0],[1.0])|(1010,[1005],[1.0])|           (5,[0],[1.0])|(728,[320],[1.0])|(2236,[1005,1010,...|\n",
      "|    0|1005|         0|          1|               0|320| 50|  0|      (5,[1],[1.0])|(480,[50],[1.0])|     (5,[0],[1.0])|(3,[0],[1.0])|(1010,[1005],[1.0])|           (5,[0],[1.0])|(728,[320],[1.0])|(2236,[1005,1010,...|\n",
      "|    0|1005|         0|          1|               0|320| 50|  0|      (5,[1],[1.0])|(480,[50],[1.0])|     (5,[0],[1.0])|(3,[0],[1.0])|(1010,[1005],[1.0])|           (5,[0],[1.0])|(728,[320],[1.0])|(2236,[1005,1010,...|\n",
      "|    0|1005|         1|          1|               0|320| 50|  0|      (5,[1],[1.0])|(480,[50],[1.0])|     (5,[1],[1.0])|(3,[0],[1.0])|(1010,[1005],[1.0])|           (5,[0],[1.0])|(728,[320],[1.0])|(2236,[1005,1011,...|\n",
      "|    0|1005|         0|          1|               0|320| 50|  0|      (5,[1],[1.0])|(480,[50],[1.0])|     (5,[0],[1.0])|(3,[0],[1.0])|(1010,[1005],[1.0])|           (5,[0],[1.0])|(728,[320],[1.0])|(2236,[1005,1010,...|\n",
      "|    0|1005|         0|          1|               0|320| 50|  0|      (5,[1],[1.0])|(480,[50],[1.0])|     (5,[0],[1.0])|(3,[0],[1.0])|(1010,[1005],[1.0])|           (5,[0],[1.0])|(728,[320],[1.0])|(2236,[1005,1010,...|\n",
      "|    0|1005|         1|          1|               0|320| 50|  3|      (5,[1],[1.0])|(480,[50],[1.0])|     (5,[1],[1.0])|    (3,[],[])|(1010,[1005],[1.0])|           (5,[0],[1.0])|(728,[320],[1.0])|(2236,[1005,1011,...|\n",
      "|    1|1005|         0|          1|               2|320| 50|  0|      (5,[1],[1.0])|(480,[50],[1.0])|     (5,[0],[1.0])|(3,[0],[1.0])|(1010,[1005],[1.0])|           (5,[2],[1.0])|(728,[320],[1.0])|(2236,[1005,1010,...|\n",
      "|    0|1002|         0|          0|               0|320| 50|  3|      (5,[0],[1.0])|(480,[50],[1.0])|     (5,[0],[1.0])|    (3,[],[])|(1010,[1002],[1.0])|           (5,[0],[1.0])|(728,[320],[1.0])|(2236,[1002,1010,...|\n",
      "+-----+----+----------+-----------+----------------+---+---+---+-------------------+----------------+------------------+-------------+-------------------+------------------------+-----------------+--------------------+\n",
      "only showing top 10 rows\n",
      "\n"
     ]
    }
   ],
   "source": [
    "piped_dataset = piped_data.withColumnRenamed(\"click\", \"label\")\n",
    "piped_dataset.show(10)"
   ]
  },
  {
   "cell_type": "code",
   "execution_count": 26,
   "id": "b4b39ef1",
   "metadata": {},
   "outputs": [
    {
     "name": "stdout",
     "output_type": "stream",
     "text": [
      "+-----+--------------------+\n",
      "|label|            features|\n",
      "+-----+--------------------+\n",
      "|    0|(2236,[1005,1010,...|\n",
      "|    0|(2236,[1005,1010,...|\n",
      "|    0|(2236,[1005,1010,...|\n",
      "|    0|(2236,[1005,1010,...|\n",
      "|    0|(2236,[1005,1011,...|\n",
      "|    0|(2236,[1005,1010,...|\n",
      "|    0|(2236,[1005,1010,...|\n",
      "|    0|(2236,[1005,1011,...|\n",
      "|    1|(2236,[1005,1010,...|\n",
      "|    0|(2236,[1002,1010,...|\n",
      "|    0|(2236,[1005,1011,...|\n",
      "|    0|(2236,[1005,1010,...|\n",
      "|    0|(2236,[1005,1010,...|\n",
      "|    0|(2236,[1005,1010,...|\n",
      "|    0|(2236,[1005,1010,...|\n",
      "|    0|(2236,[1005,1010,...|\n",
      "|    0|(2236,[1005,1010,...|\n",
      "|    0|(2236,[1005,1010,...|\n",
      "|    0|(2236,[1005,1011,...|\n",
      "|    0|(2236,[1005,1010,...|\n",
      "+-----+--------------------+\n",
      "only showing top 20 rows\n",
      "\n"
     ]
    }
   ],
   "source": [
    "# Since, we only need label and features column for model building. Hence, trimming the dataframe.\n",
    "model_data = piped_dataset.select([\"label\", \"features\"])\n",
    "model_data.show()"
   ]
  },
  {
   "cell_type": "markdown",
   "id": "5f6cc569",
   "metadata": {},
   "source": [
    "## Model Building"
   ]
  },
  {
   "cell_type": "code",
   "execution_count": 27,
   "id": "74f9eebc",
   "metadata": {},
   "outputs": [],
   "source": [
    "# Separating train and test data\n",
    "training, test = model_data.randomSplit([0.7, 0.3])"
   ]
  },
  {
   "cell_type": "code",
   "execution_count": 28,
   "id": "cf3f57c5",
   "metadata": {},
   "outputs": [
    {
     "data": {
      "text/plain": [
       "69744"
      ]
     },
     "execution_count": 28,
     "metadata": {},
     "output_type": "execute_result"
    }
   ],
   "source": [
    "training.count()"
   ]
  },
  {
   "cell_type": "markdown",
   "id": "eebfde51",
   "metadata": {},
   "source": [
    "#### Logistic Regression Model"
   ]
  },
  {
   "cell_type": "code",
   "execution_count": 29,
   "id": "1c54bc93",
   "metadata": {},
   "outputs": [],
   "source": [
    "from pyspark.ml.classification import LogisticRegression"
   ]
  },
  {
   "cell_type": "code",
   "execution_count": 30,
   "id": "e02c8e24",
   "metadata": {},
   "outputs": [],
   "source": [
    "lr = LogisticRegression(featuresCol=\"features\", labelCol=\"label\")"
   ]
  },
  {
   "cell_type": "code",
   "execution_count": 31,
   "id": "c887c6a6",
   "metadata": {},
   "outputs": [],
   "source": [
    "model = lr.fit(training)"
   ]
  },
  {
   "cell_type": "markdown",
   "id": "29365687",
   "metadata": {},
   "source": [
    "### Model Evaluation"
   ]
  },
  {
   "cell_type": "code",
   "execution_count": 32,
   "id": "820fd78d",
   "metadata": {},
   "outputs": [
    {
     "name": "stdout",
     "output_type": "stream",
     "text": [
      "Coefficients: (2236,[1001,1002,1005,1007,1008,1010,1011,1012,1014,1015,1016,1019,1020,1022,1023,1145,1241,1325,1345,1773,1789,1803,1843,2003,2233,2234,2235],[0.5084430539343735,0.44706256500605124,0.4155065354654476,-13.787772690565134,1.6045546289205197,-0.1749219222769804,0.026211332632161577,0.09164349457020135,0.2835101107867058,0.44706256500605124,0.22686576493339045,-0.2797231421656145,0.6501126409686692,0.5635683027267762,0.2584208939275093,-7.4716547359452585,-0.6120506823985356,8.451234335111373e-05,-0.33762790399097153,-7.4716547359452585,-0.6120506823985356,-1.0828990274639683,-15.05582010095583,-0.6170673777643928,0.14320158752633483,-0.7884367769369889,1.0154466801490944])\n",
      "Intercept: -1.57066164914022\n"
     ]
    }
   ],
   "source": [
    "# Printing the Coefficients and intercept for the model\n",
    "print(\"Coefficients: \" +str(model.coefficients))\n",
    "print(\"Intercept: \" +str(model.intercept))"
   ]
  },
  {
   "cell_type": "code",
   "execution_count": 33,
   "id": "f45619ca",
   "metadata": {},
   "outputs": [],
   "source": [
    "#### Plotting ROC curve"
   ]
  },
  {
   "cell_type": "code",
   "execution_count": 34,
   "id": "ddd8abe1",
   "metadata": {},
   "outputs": [],
   "source": [
    "import matplotlib.pyplot as plt\n",
    "%matplotlib inline"
   ]
  },
  {
   "cell_type": "code",
   "execution_count": 35,
   "id": "8ae04eda",
   "metadata": {},
   "outputs": [
    {
     "data": {
      "image/png": "[encoded data removed]",
      "text/plain": [
       "<Figure size 432x288 with 1 Axes>"
      ]
     },
     "metadata": {
      "needs_background": "light"
     },
     "output_type": "display_data"
    }
   ],
   "source": [
    "trainingSummary = model.summary\n",
    "roc = trainingSummary.roc.toPandas()\n",
    "plt.plot(roc[\"FPR\"], roc[\"TPR\"])\n",
    "plt.ylabel(\"False Positive Rate\")\n",
    "plt.xlabel(\"True Positive Rate\")\n",
    "plt.title(\"ROC Curve\")\n",
    "plt.show()"
   ]
  },
  {
   "cell_type": "code",
   "execution_count": 36,
   "id": "ad658340",
   "metadata": {},
   "outputs": [
    {
     "name": "stdout",
     "output_type": "stream",
     "text": [
      "Training set areaUnderCurve: 0.60905103149969\n"
     ]
    }
   ],
   "source": [
    "print(\"Training set areaUnderCurve: \" + str(trainingSummary.areaUnderROC))"
   ]
  },
  {
   "cell_type": "code",
   "execution_count": 37,
   "id": "b3d0814d",
   "metadata": {},
   "outputs": [
    {
     "data": {
      "image/png": "[encoded data removed]",
      "text/plain": [
       "<Figure size 432x288 with 1 Axes>"
      ]
     },
     "metadata": {
      "needs_background": "light"
     },
     "output_type": "display_data"
    }
   ],
   "source": [
    "# Precision Recall Curve\n",
    "pr = trainingSummary.pr.toPandas()\n",
    "plt.plot(pr[\"recall\"], pr[\"precision\"])\n",
    "plt.ylabel(\"Precision\")\n",
    "plt.xlabel(\"Recall\")\n",
    "plt.show()"
   ]
  },
  {
   "cell_type": "markdown",
   "id": "370ed696",
   "metadata": {},
   "source": [
    "### Accuracy"
   ]
  },
  {
   "cell_type": "code",
   "execution_count": 38,
   "id": "f7bdcca0",
   "metadata": {},
   "outputs": [],
   "source": [
    "summary = model.evaluate(test)"
   ]
  },
  {
   "cell_type": "code",
   "execution_count": 39,
   "id": "1e41e1ef",
   "metadata": {},
   "outputs": [
    {
     "data": {
      "text/plain": [
       "0.8264088580399934"
      ]
     },
     "execution_count": 39,
     "metadata": {},
     "output_type": "execute_result"
    }
   ],
   "source": [
    "summary.accuracy"
   ]
  },
  {
   "cell_type": "code",
   "execution_count": 40,
   "id": "55bdd3e0",
   "metadata": {},
   "outputs": [
    {
     "name": "stdout",
     "output_type": "stream",
     "text": [
      "+-----+--------------------+--------------------+--------------------+----------+\n",
      "|label|            features|       rawPrediction|         probability|prediction|\n",
      "+-----+--------------------+--------------------+--------------------+----------+\n",
      "|    0|(2236,[1001,1010,...|[1.78068904303570...|[0.85578192791284...|       0.0|\n",
      "|    0|(2236,[1001,1010,...|[1.78068904303570...|[0.85578192791284...|       0.0|\n",
      "|    0|(2236,[1001,1010,...|[1.78068904303570...|[0.85578192791284...|       0.0|\n",
      "|    0|(2236,[1001,1010,...|[1.78068904303570...|[0.85578192791284...|       0.0|\n",
      "|    0|(2236,[1001,1010,...|[1.8672333812776,...|[0.86613783195285...|       0.0|\n",
      "|    0|(2236,[1001,1010,...|[1.8672333812776,...|[0.86613783195285...|       0.0|\n",
      "|    0|(2236,[1001,1010,...|[1.8672333812776,...|[0.86613783195285...|       0.0|\n",
      "|    0|(2236,[1001,1010,...|[1.8672333812776,...|[0.86613783195285...|       0.0|\n",
      "|    0|(2236,[1002,1010,...|[1.42544716523350...|[0.80619094001715...|       0.0|\n",
      "|    0|(2236,[1002,1010,...|[1.42544716523350...|[0.80619094001715...|       0.0|\n",
      "|    0|(2236,[1002,1010,...|[1.42544716523350...|[0.80619094001715...|       0.0|\n",
      "|    0|(2236,[1002,1010,...|[1.42544716523350...|[0.80619094001715...|       0.0|\n",
      "|    0|(2236,[1002,1010,...|[1.42544716523350...|[0.80619094001715...|       0.0|\n",
      "|    0|(2236,[1002,1010,...|[1.42544716523350...|[0.80619094001715...|       0.0|\n",
      "|    0|(2236,[1002,1010,...|[1.28224557770716...|[0.78283178097773...|       0.0|\n",
      "|    0|(2236,[1002,1010,...|[1.28224557770716...|[0.78283178097773...|       0.0|\n",
      "|    0|(2236,[1002,1010,...|[1.28224557770716...|[0.78283178097773...|       0.0|\n",
      "|    0|(2236,[1002,1010,...|[1.28224557770716...|[0.78283178097773...|       0.0|\n",
      "|    0|(2236,[1002,1010,...|[1.28224557770716...|[0.78283178097773...|       0.0|\n",
      "|    0|(2236,[1002,1010,...|[1.28416031555704...|[0.78315712196492...|       0.0|\n",
      "+-----+--------------------+--------------------+--------------------+----------+\n",
      "only showing top 20 rows\n",
      "\n"
     ]
    }
   ],
   "source": [
    "output = model.transform(test)\n",
    "output.show()"
   ]
  },
  {
   "cell_type": "code",
   "execution_count": 41,
   "id": "14f07b5a",
   "metadata": {},
   "outputs": [
    {
     "name": "stdout",
     "output_type": "stream",
     "text": [
      "+-----+----------+\n",
      "|label|prediction|\n",
      "+-----+----------+\n",
      "|    0|       0.0|\n",
      "|    0|       0.0|\n",
      "|    0|       0.0|\n",
      "|    0|       0.0|\n",
      "|    0|       0.0|\n",
      "|    0|       0.0|\n",
      "|    0|       0.0|\n",
      "|    0|       0.0|\n",
      "|    0|       0.0|\n",
      "|    0|       0.0|\n",
      "|    0|       0.0|\n",
      "|    0|       0.0|\n",
      "|    0|       0.0|\n",
      "|    0|       0.0|\n",
      "|    0|       0.0|\n",
      "|    0|       0.0|\n",
      "|    0|       0.0|\n",
      "|    0|       0.0|\n",
      "|    0|       0.0|\n",
      "|    0|       0.0|\n",
      "+-----+----------+\n",
      "only showing top 20 rows\n",
      "\n"
     ]
    }
   ],
   "source": [
    "output.select(\"label\", \"prediction\").show()"
   ]
  },
  {
   "cell_type": "markdown",
   "id": "092b867f",
   "metadata": {},
   "source": [
    "#### ROC"
   ]
  },
  {
   "cell_type": "code",
   "execution_count": 42,
   "id": "0bdd666f",
   "metadata": {},
   "outputs": [],
   "source": [
    "from pyspark.ml.evaluation import BinaryClassificationEvaluator"
   ]
  },
  {
   "cell_type": "code",
   "execution_count": 43,
   "id": "be1f53f8",
   "metadata": {},
   "outputs": [],
   "source": [
    "evaluator = BinaryClassificationEvaluator()"
   ]
  },
  {
   "cell_type": "code",
   "execution_count": 44,
   "id": "37212b23",
   "metadata": {},
   "outputs": [
    {
     "name": "stdout",
     "output_type": "stream",
     "text": [
      "Test Area Under ROC 0.6070288739760977\n"
     ]
    }
   ],
   "source": [
    "print(\"Test Area Under ROC\", evaluator.evaluate(output))"
   ]
  },
  {
   "cell_type": "code",
   "execution_count": null,
   "id": "4e35fa7e",
   "metadata": {},
   "outputs": [],
   "source": []
  },
  {
   "cell_type": "code",
   "execution_count": null,
   "id": "a29b19b3",
   "metadata": {},
   "outputs": [],
   "source": []
  },
  {
   "cell_type": "code",
   "execution_count": null,
   "id": "bbd877c9",
   "metadata": {},
   "outputs": [],
   "source": []
  },
  {
   "cell_type": "markdown",
   "id": "625e8d83",
   "metadata": {},
   "source": [
    "##### For Testing purposes, let's now remove any column from the dataset except for string and run the model on the same"
   ]
  },
  {
   "cell_type": "code",
   "execution_count": 45,
   "id": "78c0b90e",
   "metadata": {},
   "outputs": [],
   "source": [
    "df_selected = df_selected.select([col for col in df_selected.columns if col != \"C20\"])"
   ]
  },
  {
   "cell_type": "code",
   "execution_count": 46,
   "id": "988cb294",
   "metadata": {},
   "outputs": [
    {
     "name": "stdout",
     "output_type": "stream",
     "text": [
      "root\n",
      " |-- click: integer (nullable = true)\n",
      " |-- C1: integer (nullable = true)\n",
      " |-- banner_pos: integer (nullable = true)\n",
      " |-- device_type: integer (nullable = true)\n",
      " |-- device_conn_type: integer (nullable = true)\n",
      " |-- C14: integer (nullable = true)\n",
      " |-- C15: integer (nullable = true)\n",
      " |-- C16: integer (nullable = true)\n",
      " |-- C17: integer (nullable = true)\n",
      " |-- C18: integer (nullable = true)\n",
      " |-- C19: integer (nullable = true)\n",
      " |-- C21: integer (nullable = true)\n",
      "\n",
      "+-----+----+----------+-----------+----------------+-----+---+---+----+---+---+---+-------------------+----------------+--------------------+------------------+-------------------+------------------+-------------+-------------------+-----------------+------------------------+-----------------+--------------------+\n",
      "|click|  C1|banner_pos|device_type|device_conn_type|  C14|C15|C16| C17|C18|C19|C21|device_type_encoded|     C16_encoded|         C14_encoded|banner_pos_encoded|        C17_encoded|       C19_encoded|  C18_encoded|         C1_encoded|      C21_encoded|device_conn_type_encoded|      C15_encoded|            features|\n",
      "+-----+----+----------+-----------+----------------+-----+---+---+----+---+---+---+-------------------+----------------+--------------------+------------------+-------------------+------------------+-------------+-------------------+-----------------+------------------------+-----------------+--------------------+\n",
      "|    0|1005|         0|          1|               2|15706|320| 50|1722|  0| 35| 79|      (5,[1],[1.0])|(480,[50],[1.0])|(21705,[15706],[1...|     (5,[0],[1.0])|(2497,[1722],[1.0])| (1835,[35],[1.0])|(3,[0],[1.0])|(1010,[1005],[1.0])| (157,[79],[1.0])|           (5,[2],[1.0])|(728,[320],[1.0])|(28430,[1005,1010...|\n",
      "|    0|1005|         0|          1|               0|15704|320| 50|1722|  0| 35| 79|      (5,[1],[1.0])|(480,[50],[1.0])|(21705,[15704],[1...|     (5,[0],[1.0])|(2497,[1722],[1.0])| (1835,[35],[1.0])|(3,[0],[1.0])|(1010,[1005],[1.0])| (157,[79],[1.0])|           (5,[0],[1.0])|(728,[320],[1.0])|(28430,[1005,1010...|\n",
      "|    0|1005|         0|          1|               0|15704|320| 50|1722|  0| 35| 79|      (5,[1],[1.0])|(480,[50],[1.0])|(21705,[15704],[1...|     (5,[0],[1.0])|(2497,[1722],[1.0])| (1835,[35],[1.0])|(3,[0],[1.0])|(1010,[1005],[1.0])| (157,[79],[1.0])|           (5,[0],[1.0])|(728,[320],[1.0])|(28430,[1005,1010...|\n",
      "|    0|1005|         0|          1|               0|15706|320| 50|1722|  0| 35| 79|      (5,[1],[1.0])|(480,[50],[1.0])|(21705,[15706],[1...|     (5,[0],[1.0])|(2497,[1722],[1.0])| (1835,[35],[1.0])|(3,[0],[1.0])|(1010,[1005],[1.0])| (157,[79],[1.0])|           (5,[0],[1.0])|(728,[320],[1.0])|(28430,[1005,1010...|\n",
      "|    0|1005|         1|          1|               0|18993|320| 50|2161|  0| 35|157|      (5,[1],[1.0])|(480,[50],[1.0])|(21705,[18993],[1...|     (5,[1],[1.0])|(2497,[2161],[1.0])| (1835,[35],[1.0])|(3,[0],[1.0])|(1010,[1005],[1.0])|      (157,[],[])|           (5,[0],[1.0])|(728,[320],[1.0])|(28430,[1005,1011...|\n",
      "|    0|1005|         0|          1|               0|16920|320| 50|1899|  0|431|117|      (5,[1],[1.0])|(480,[50],[1.0])|(21705,[16920],[1...|     (5,[0],[1.0])|(2497,[1899],[1.0])|(1835,[431],[1.0])|(3,[0],[1.0])|(1010,[1005],[1.0])|(157,[117],[1.0])|           (5,[0],[1.0])|(728,[320],[1.0])|(28430,[1005,1010...|\n",
      "|    0|1005|         0|          1|               0|20362|320| 50|2333|  0| 39|157|      (5,[1],[1.0])|(480,[50],[1.0])|(21705,[20362],[1...|     (5,[0],[1.0])|(2497,[2333],[1.0])| (1835,[39],[1.0])|(3,[0],[1.0])|(1010,[1005],[1.0])|      (157,[],[])|           (5,[0],[1.0])|(728,[320],[1.0])|(28430,[1005,1010...|\n",
      "|    0|1005|         1|          1|               0|20632|320| 50|2374|  3| 39| 23|      (5,[1],[1.0])|(480,[50],[1.0])|(21705,[20632],[1...|     (5,[1],[1.0])|(2497,[2374],[1.0])| (1835,[39],[1.0])|    (3,[],[])|(1010,[1005],[1.0])| (157,[23],[1.0])|           (5,[0],[1.0])|(728,[320],[1.0])|(28430,[1005,1011...|\n",
      "|    1|1005|         0|          1|               2|15707|320| 50|1722|  0| 35| 79|      (5,[1],[1.0])|(480,[50],[1.0])|(21705,[15707],[1...|     (5,[0],[1.0])|(2497,[1722],[1.0])| (1835,[35],[1.0])|(3,[0],[1.0])|(1010,[1005],[1.0])| (157,[79],[1.0])|           (5,[2],[1.0])|(728,[320],[1.0])|(28430,[1005,1010...|\n",
      "|    0|1002|         0|          0|               0|21689|320| 50|2496|  3|167| 23|      (5,[0],[1.0])|(480,[50],[1.0])|(21705,[21689],[1...|     (5,[0],[1.0])|(2497,[2496],[1.0])|(1835,[167],[1.0])|    (3,[],[])|(1010,[1002],[1.0])| (157,[23],[1.0])|           (5,[0],[1.0])|(728,[320],[1.0])|(28430,[1002,1010...|\n",
      "|    0|1005|         1|          1|               0|17747|320| 50|1974|  2| 39| 33|      (5,[1],[1.0])|(480,[50],[1.0])|(21705,[17747],[1...|     (5,[1],[1.0])|(2497,[1974],[1.0])| (1835,[39],[1.0])|(3,[2],[1.0])|(1010,[1005],[1.0])| (157,[33],[1.0])|           (5,[0],[1.0])|(728,[320],[1.0])|(28430,[1005,1011...|\n",
      "|    0|1005|         0|          1|               0|15701|320| 50|1722|  0| 35| 79|      (5,[1],[1.0])|(480,[50],[1.0])|(21705,[15701],[1...|     (5,[0],[1.0])|(2497,[1722],[1.0])| (1835,[35],[1.0])|(3,[0],[1.0])|(1010,[1005],[1.0])| (157,[79],[1.0])|           (5,[0],[1.0])|(728,[320],[1.0])|(28430,[1005,1010...|\n",
      "|    0|1005|         0|          1|               2|20596|320| 50|2161|  0| 35|157|      (5,[1],[1.0])|(480,[50],[1.0])|(21705,[20596],[1...|     (5,[0],[1.0])|(2497,[2161],[1.0])| (1835,[35],[1.0])|(3,[0],[1.0])|(1010,[1005],[1.0])|      (157,[],[])|           (5,[2],[1.0])|(728,[320],[1.0])|(28430,[1005,1010...|\n",
      "|    0|1005|         0|          1|               0|19771|320| 50|2227|  0|687| 48|      (5,[1],[1.0])|(480,[50],[1.0])|(21705,[19771],[1...|     (5,[0],[1.0])|(2497,[2227],[1.0])|(1835,[687],[1.0])|(3,[0],[1.0])|(1010,[1005],[1.0])| (157,[48],[1.0])|           (5,[0],[1.0])|(728,[320],[1.0])|(28430,[1005,1010...|\n",
      "|    0|1005|         0|          1|               0|20984|320| 50|2371|  0|551| 46|      (5,[1],[1.0])|(480,[50],[1.0])|(21705,[20984],[1...|     (5,[0],[1.0])|(2497,[2371],[1.0])|(1835,[551],[1.0])|(3,[0],[1.0])|(1010,[1005],[1.0])| (157,[46],[1.0])|           (5,[0],[1.0])|(728,[320],[1.0])|(28430,[1005,1010...|\n",
      "|    0|1005|         0|          1|               0|15699|320| 50|1722|  0| 35| 79|      (5,[1],[1.0])|(480,[50],[1.0])|(21705,[15699],[1...|     (5,[0],[1.0])|(2497,[1722],[1.0])| (1835,[35],[1.0])|(3,[0],[1.0])|(1010,[1005],[1.0])| (157,[79],[1.0])|           (5,[0],[1.0])|(728,[320],[1.0])|(28430,[1005,1010...|\n",
      "|    0|1005|         0|          1|               0|17914|320| 50|2043|  2| 39| 32|      (5,[1],[1.0])|(480,[50],[1.0])|(21705,[17914],[1...|     (5,[0],[1.0])|(2497,[2043],[1.0])| (1835,[39],[1.0])|(3,[2],[1.0])|(1010,[1005],[1.0])| (157,[32],[1.0])|           (5,[0],[1.0])|(728,[320],[1.0])|(28430,[1005,1010...|\n",
      "|    0|1005|         0|          1|               2|15708|320| 50|1722|  0| 35| 79|      (5,[1],[1.0])|(480,[50],[1.0])|(21705,[15708],[1...|     (5,[0],[1.0])|(2497,[1722],[1.0])| (1835,[35],[1.0])|(3,[0],[1.0])|(1010,[1005],[1.0])| (157,[79],[1.0])|           (5,[2],[1.0])|(728,[320],[1.0])|(28430,[1005,1010...|\n",
      "|    0|1005|         1|          1|               0| 6558|320| 50| 571|  2| 39| 32|      (5,[1],[1.0])|(480,[50],[1.0])|(21705,[6558],[1.0])|     (5,[1],[1.0])| (2497,[571],[1.0])| (1835,[39],[1.0])|(3,[2],[1.0])|(1010,[1005],[1.0])| (157,[32],[1.0])|           (5,[0],[1.0])|(728,[320],[1.0])|(28430,[1005,1011...|\n",
      "|    0|1005|         0|          1|               0|21234|320| 50|2434|  3|163| 61|      (5,[1],[1.0])|(480,[50],[1.0])|(21705,[21234],[1...|     (5,[0],[1.0])|(2497,[2434],[1.0])|(1835,[163],[1.0])|    (3,[],[])|(1010,[1005],[1.0])| (157,[61],[1.0])|           (5,[0],[1.0])|(728,[320],[1.0])|(28430,[1005,1010...|\n",
      "+-----+----+----------+-----------+----------------+-----+---+---+----+---+---+---+-------------------+----------------+--------------------+------------------+-------------------+------------------+-------------+-------------------+-----------------+------------------------+-----------------+--------------------+\n",
      "only showing top 20 rows\n",
      "\n",
      "+-----+--------------------+\n",
      "|label|            features|\n",
      "+-----+--------------------+\n",
      "|    0|(28430,[1005,1010...|\n",
      "|    0|(28430,[1005,1010...|\n",
      "|    0|(28430,[1005,1010...|\n",
      "|    0|(28430,[1005,1010...|\n",
      "|    0|(28430,[1005,1011...|\n",
      "|    0|(28430,[1005,1010...|\n",
      "|    0|(28430,[1005,1010...|\n",
      "|    0|(28430,[1005,1011...|\n",
      "|    1|(28430,[1005,1010...|\n",
      "|    0|(28430,[1002,1010...|\n",
      "|    0|(28430,[1005,1011...|\n",
      "|    0|(28430,[1005,1010...|\n",
      "|    0|(28430,[1005,1010...|\n",
      "|    0|(28430,[1005,1010...|\n",
      "|    0|(28430,[1005,1010...|\n",
      "|    0|(28430,[1005,1010...|\n",
      "|    0|(28430,[1005,1010...|\n",
      "|    0|(28430,[1005,1010...|\n",
      "|    0|(28430,[1005,1011...|\n",
      "|    0|(28430,[1005,1010...|\n",
      "+-----+--------------------+\n",
      "only showing top 20 rows\n",
      "\n"
     ]
    },
    {
     "name": "stdout",
     "output_type": "stream",
     "text": [
      "Training Count:70072\n",
      "Coefficients: (28430,[1001,1002,1005,1007,1008,1010,1011,1012,1014,1015,1016,1019,1020,1022,1023,1400,1402,1405,1406,1477,1479,1481,1488,1812,2062,2063,2064,2291,2292,2293,2294,2295,2297,2300,2301,2303,5432,5543,5712,7385,7386,7387,7389,7390,7391,7417,7418,7422,7423,7424,7582,7583,7584,7585,7588,7641,8015,8016,8017,8018,8049,8718,8719,8720,10019,10020,10273,10461,10463,10486,10503,10823,10828,10830,13018,13019,13021,13025,13029,13033,13037,13041,13046,13051,13066,13068,13228,13238,13251,13259,13494,13495,13496,13497,13502,14668,14669,14803,14804,14805,14807,14808,15167,16008,16010,16013,16030,16031,16035,16041,16042,16415,16565,16567,16568,16569,16570,16571,16573,16574,16575,16576,16723,16724,16725,16726,16727,16728,16729,16730,16731,16732,16733,16854,16933,17036,17095,17096,17178,17233,17288,17428,17430,17431,17432,17433,17640,17710,17712,17863,17866,17883,17884,17945,18014,18039,18051,18062,18106,18188,18237,18264,18287,18288,18289,18598,18608,18611,18639,18678,18679,18686,18772,18778,18780,18888,18900,18902,18918,18919,18939,19116,19117,19118,19119,19120,19336,19339,19341,19673,19879,19881,19883,19950,19959,19961,19970,19971,19972,19974,19977,19978,19979,20012,20018,20040,20041,20301,20302,20303,20479,20690,20691,20758,20764,20765,20766,20767,20768,20796,20797,20890,20895,20903,20906,20975,20976,21008,21010,21013,21029,21030,21031,21032,21033,21034,21035,21036,21037,21038,21039,21040,21041,21043,21044,21102,21118,21147,21153,21154,21155,21156,21158,21160,21168,21169,21170,21171,21172,21173,21174,21176,21177,21178,21195,21238,21239,21240,21276,21296,21297,21298,21299,21304,21307,21313,21314,21320,21337,21370,21371,21377,21378,21380,21384,21385,21386,21387,21388,21389,21390,21391,21407,21415,21499,21533,21535,21585,21621,21657,21658,21659,21660,21756,21768,21769,21775,21776,21991,21994,21995,22005,22009,22214,22216,22219,22220,22221,22222,22225,22226,22227,22254,22258,22259,22268,22299,22301,22302,22303,22321,22325,22334,22335,22336,22392,22413,22424,22425,22426,22429,22433,22434,22435,22436,22437,22438,22500,22501,22502,22503,22506,22507,22508,22509,22510,22511,22586,22587,22590,22593,22595,22614,22615,22616,22617,22618,22619,22620,22634,22635,22636,22637,22639,22651,22658,22665,22685,22686,22690,22699,22700,22701,22702,22703,22704,22705,22706,22707,22708,22709,22710,22712,22713,22714,22716,22717,22718,22719,22720,22721,22722,22723,22724,22725,22726,22727,22728,22729,22850,22946,23030,23050,23478,23494,23508,23548,23708,24050,24060,24091,24116,24134,24332,24361,24482,24485,24487,24509,24510,24514,24551,24624,24706,24765,24836,24839,24844,24875,25030,25186,25193,25210,25339,25385,25445,25466,25575,25623,25636,25660,25678,25690,25707,25718,25722,25738,25773,25801,25810,25820,25822,25825,25833,25837,25859,25864,25870,25872,25893,25911,25912,25929,25931,25932,25934,25974,25977,25981,25998,26021,26091,26092,26096,26099,26100,26163,26165,26191,26198,26201,26202,26208,26209,26216,26217,26221,26222,26223,26224,26230,26233,26241,26242,26244,26245,26250,26254,26261,26263,26269,26271,26277,26284,26289,26309,26310,26312,26328,26332,26335,26362,26363,26365,26372,26376,26381,26384,26387,26397,26403,26405,26409,26414,26416,26418,26419,26420,26421,26423,26431,26433,26434,26435,26436,26437,26471,26473,26477,26479,26481,26485,26599,26601,26605,26607,26609,26613,26729,26735,26741,26861,26863,26865,26869,26989,26997,27111,27117,27119,27121,27125,27239,27251,27381,27501,27509,27753,27757,27765,27889,28149,28286,28288,28289,28293,28296,28305,28306,28315,28319,28321,28325,28334,28341,28343,28344,28352,28355,28358,28364,28366,28367,28368,28373,28374,28384,28389,28390,28429],[0.9019359249428958,0.07763549856716465,0.29551901704723116,-8.648142898794625,2.6994878069267383,-0.12541784467991618,0.05201302302197883,-0.004032281915902647,-13.425794911254734,0.07763549856716465,0.18435378431033786,-0.09094338644715745,-0.016129400185634125,0.07349895332018211,-0.4674492565695967,0.30502706640589045,0.35698312777153146,0.36312273544525736,1.309358353711372,0.7311971006805046,-0.20338889398427654,-0.7381388751345713,0.7586087310756857,1.0889483875545056,-7.4904012070042185,20.089312230928662,-6.515338437545706,-0.3492101367812027,0.2028385551098582,1.4815295781277922,2.6224708524434814,-0.3562967458093156,-0.2426123484379506,0.18818217030776027,0.09380582046554935,0.312028210632145,9.207614500040984,-3.794315740459122,-0.006399254349173388,-0.5873786299325834,-0.9427869196132174,-0.5873786299325834,0.5731212574297465,2.2088508131431155,1.649151966670383,0.05869755153417602,-0.051558489526079956,-8.330859478904568,4.447434681211694,-8.33093010436477,0.04805210890014154,-0.3688240578570759,0.3892433194892511,0.35868752705437495,0.15517650283767648,0.0366302789458106,-0.318108170004374,0.16667840211394727,-0.33079628370792097,0.2949354642058279,4.447434797742356,-4.658657747214636,-4.414142534630684,-4.414142534630684,5.122958021516687,-8.644842230352381,-4.196672295239358,-9.245883095121984,-0.1064897822044748,-3.7727261893049597,-0.5353813308687196,2.864945164630652,-10.229291275307714,15.50361640407091,-10.618417934343764,-10.301998172633642,-9.41312590384886,0.5443218637249736,0.9910500041765998,1.6571281032087597,1.6490664842648521,-10.770252190206447,1.6679062089125194,-0.40065858913256563,1.9770403221086013,15.053193415789172,-4.51471903439291,-5.509479792987468,-4.51471903439291,-4.51471903439291,1.1020907569563345,-1.0017307611473576,-0.5683152368706519,1.131695194632827,13.4758259960174,-8.918771994403832,3.9628119768021266,4.0514020624737705,2.469987620404951,-8.754525389720989,-9.218881848187511,16.508922188152628,-10.276026743534569,0.34235066953526483,0.3385309308240036,0.33853093082400343,-0.32849380161457353,0.28536408728644963,-0.4662965135652448,-0.4579411891554251,0.2924265561889797,2.5581870469542975,-4.33522280114019,-4.309991906897977,-4.309942880921951,-4.309991906897977,-4.309942880921951,-4.309967393753607,-4.309942880921951,8.610883733696047,-4.309942880921951,-4.309991906897977,-10.506076149320114,0.23300230490469503,-1.6406422162359044,0.24088352077876804,-0.11549942679479917,0.12696294056267668,0.16808017269083736,0.20933270755599534,-0.12022971968559441,0.20323600718692716,0.19312110957632672,-7.600339155991265,0.549897820877823,0.3381719277567637,-9.99652550313854,0.22671420022598815,15.114508997750278,-0.13215462156629176,-1.11141076214251,0.23477117629204583,0.908825004992085,0.3717339370793897,0.48911014550991255,0.7990417168584214,-0.018808208524292668,0.13337052307300998,0.2835637814780466,0.2580367501570989,1.4795967349127388,0.07782129292274544,-0.40723597052779503,0.2351282295131908,0.08544418493170022,0.730586614059951,-5.206208333330467,0.2158660714231866,0.8218963379641687,-1.0703135613521255,-0.4184258990938663,0.4168688344637152,0.8201202213873903,-11.690965276367292,0.6925989822840292,0.2703827540179264,-0.05280590236034883,-0.5229234541629754,0.3921694250649883,0.17912802587424115,0.15662109107563163,0.2493697970769613,0.18949271554322733,0.49347694499159467,0.8071970365130675,-0.41134254626816597,0.044596079004304276,-0.9500903515982008,0.22964791146490615,-0.0007498077887068595,0.3202193434383851,0.918649856819301,0.7146540253531916,-0.009723191727457278,0.4744814668593979,1.378797570802017,-3.523130435853052,-3.5232004815389044,-3.52322383076248,0.5195698322807083,0.7872304782015308,0.8031001639850099,0.26996872303661845,0.36120174758731544,0.05186219400457558,-0.45101058449849685,2.816654670775294,-6.249441287068541,-6.399081208641445,-7.73111705546003,-7.481365654704196,-7.891960935808635,3.337580689749386,-0.6212730327143297,-0.16333886587968952,0.12337860928879917,0.27559495156394903,-9.218859660922082,-9.218859660922082,-9.073248934451234,-0.4811509246098957,0.38828245824811014,0.03953466694240703,0.025421844572056755,-3.6211804910837015,0.9908466604075457,-0.14206163671986943,1.7745946760367728,-0.08222793499224158,0.02291768632009653,-0.1430681401592351,0.26755391689053315,-0.47705267014446284,-0.6492168518397723,-9.302610916029284,0.12069684573680331,12.328049473145676,-5.880019274604365,-5.880044840906839,-3.6081196496550474,-10.86513502969399,0.5803008777339252,-0.1240387667578492,0.17489688920439228,0.9827473859502478,0.705817951973176,-10.782815045842762,1.1668599560280786,-10.690093910004816,0.30172695497736013,0.5688539997771247,-0.05543971410457934,0.005669185874558592,1.2910239555585385,0.057866661304984864,0.24769700532947045,0.5743677871762254,1.6171370160977832,-7.983569138086946,-9.799607958551835,-9.799607958551835,-9.659704554907018,-9.689558461699688,16.02775113483091,-0.08657415088722607,0.913968039025694,0.7271859149696829,0.6001798592203218,0.3648079070611042,1.471393421236184,-0.08657414521167932,-9.02371353058633,-8.601491603139435,-0.287419164816062,-0.05328497948619009,-0.20760540694394405,1.2485891664210123,0.4477083177752756,0.20471298304972732,3.6000951174857,16.05250071203501,-9.474408459556114,-9.474386612496104,-4.557735807871831,-4.573917355204371,-4.557787743372884,4.407728540148597,-4.557865649029887,0.25896064713583605,-0.06699011926592499,0.19917669903722235,-0.301509805969535,0.9103687407488528,-0.17120741083481597,0.3677256980950974,-0.4712291947307653,0.8833979908272319,-0.24047927212462403,0.24630973120833777,0.020846813868947607,0.05231290164606063,-0.21541377252901975,-0.043505740599165864,-1.0970532483709896,-4.991496612689551,0.008494246143181906,-10.545889508225297,-0.14607835373715866,-0.4259011243574637,0.29899496935469555,0.3949196297747615,0.5004380910270336,0.09856969665807719,-0.1370666732798806,-3.5009214769698116,-3.5009214769698116,-5.588726632086341,-0.0035119281669767134,-0.16346371030870377,-0.12666260819653904,-0.24840404622574747,0.09537453282041858,0.05495545031692168,-0.5732646710070544,0.17161993088110308,-6.738374922573036,-6.835351300643211,-7.5207105966794945,4.472145618647834,2.9487654312647225,-9.467347717208325,4.152983895446548,-8.10128797983059,2.1039013782706113,-0.023100329894537208,7.6237589363065625,-10.789786665985178,1.9504096500392745,0.9776146443866948,-10.789786665985178,0.2507649894368549,0.40909008012566744,-0.3669174338209314,0.06450177560819921,0.2789042896781403,-3.501023215880596,-3.8093150017827138,3.799695510107718,-8.516154676768661,3.5211920462928092,2.5711630009161603,1.9951048211588625,2.571162979394412,0.9627004001448184,3.2645073314464526,-10.606658416449761,-10.499832106533024,-9.973122300001299,2.1090992867618423,3.1255334501983203,2.549361696940243,-10.197332802654344,-9.899964167037009,-10.197312333999033,-10.050172558624608,15.582973583160294,-10.197312333999033,-5.830908028495279,-5.830908028495279,-6.356634279932508,-5.4829516975499155,-5.1056615508165795,-10.19645597696309,-9.19427739608061,-10.19645597696309,15.566983448157869,15.566977760646571,-9.19427739608061,-9.724845834338401,-0.8260816638995178,2.158948681844402,-0.35123292174503734,-0.26592190098718116,0.6533715659032565,-6.08412517147094,-3.189053124808257,0.3072027577055471,0.6473101060213631,0.4516019113425816,-0.1427333125505717,0.34589274492932603,-0.02154471320648444,0.05852807931160017,0.5282804954781567,0.24049402592202437,0.24049402592202437,0.28307486060390474,-0.10615769334455057,-0.6693489231375075,0.5728555480920082,0.20796562115655995,1.201375020263997,0.7511520455024719,0.15941003448793573,0.3547313403782053,1.6269586609704116,-6.965974940164444,5.048452873305948,-5.898907468444184,-6.96602464951987,-6.661979524642511,-5.898803534151378,5.4340952357050725,-5.898933452711235,5.943693837984721,5.655174530914529,-5.898751568670167,-5.898803534151378,7.042464698146118,-3.6211804910837015,-0.11936493371647174,0.09372444382074847,-0.2908230697843914,-3.6211804910837015,-0.11936493371647174,-0.3859680494522074,-4.563049235054174,0.17945463000557513,0.3765343574924937,0.10488326697403724,1.0889483875545056,-2.4062940055503383,0.19444117322689045,2.7067266375799135,-0.006399254349173388,0.3841639362106298,-0.007067810915223781,-2.3179664783034397,0.07740653021043671,0.15517650283767648,0.0366302789458106,0.006422704319811359,-4.49577592607896,-4.196672295239358,-1.7609923682217323,-0.4651540179112297,-3.7727261893049597,-0.5353813308687196,2.751151208357966,0.31221511377075956,0.25362138015410696,-4.912872338093812,1.2336445090087411,-0.40571540959637964,-2.375633681787671,2.419275653169256,3.368516036222146,0.016152250535843564,2.5581870469542975,-3.085024846385949,0.1979710848970319,-0.3202909091198448,0.549897820877823,0.3381719277567637,0.25896064713583605,-0.04644951896164355,-0.04307830133758092,0.5228247635959593,-0.018808208524292668,0.41525271943492675,0.5451924617152167,1.4795967349127388,-0.24811135410129714,-0.0035119281669767134,0.2351282295131908,0.8218963379641687,-0.022447962421124623,-5.206208333330467,0.2158660714231866,-1.0703135613521255,0.4168688344637152,0.18949271554322733,0.06006698396186997,0.4497146521197097,0.16934280486821757,0.2493697970769613,-0.4351258755287104,0.09501337171444116,0.3202193434383851,0.670876503353618,-3.5240138655829276,-3.058746801662695,-2.1542969152740046,-0.6212730327143297,-0.3184004376550343,0.19849337083506244,-0.8617856466021723,-0.05995766787940773,0.3439812902088255,0.025421844572056755,0.26558691279304164,-0.08222793499224158,0.26755391689053315,-0.4615645967767677,-5.880148209124719,-3.6081196496550474,-0.1270163810286361,0.2567291274616707,0.005669185874558592,0.7978303529322973,0.24769700532947045,0.5743677871762254,-2.55759675108551,-1.9936174570699663,0.7475376301724947,-0.4580550923269004,-0.05328497948619009,0.4964574629840811,0.20471298304972732,-0.8252380965748803,0.05759679200592356,-0.22972798069776154,-1.0970532483709896,-4.991496612689551,-0.012639789837929596,0.07563349070160164,-0.17893703642901498,0.4042483235972608,-0.1370666732798806,-3.5014212373588105,-5.588726632086341,-0.2055366104757299,-2.059685722028694,0.5461820751866722,-0.04394065008973391,7.6237589363065625,-0.3719093392778761,0.47829029590347777,0.004402867507798386,-3.501023215880596,-3.8093150017827138,-1.1742983668662739,-1.728055596406354,-5.68204858033961,-1.2813003075270368,-0.35011975295417425,-0.18925825299869387,-6.08412517147094,-3.189053124808257,0.3072027577055471,-0.1427333125505717,0.45447549977787227,0.23188181625121973,-0.0637973115527114,0.03773567713216237,0.22725915884295625,-3.189053124808257,0.026395659514448815,-0.027304406042804933,0.17538299392539414,-2.178853516733708,-0.19501635271867776,-0.34641803408905647,-0.1825192207611832,-0.02398923481955924,-1.7051511584263384,0.3562992491189882,-0.753259390853652,-0.6212730327143297,-0.3221272516206172,0.3421639384368027,2.7067266375799135,-0.250088597438631,-0.3640372882856318,0.24368231148498243,0.07563349070160164,0.24769700532947045,0.3381719277567637,-0.8617856466021723,-0.0035119281669767134,0.26755391689053315,-0.06789363644713353,-0.8252380965748803,-0.17893703642901498,-0.3202909091198448,0.4497146521197097,-1.7609923682217323,-3.7727261893049597,0.28050534612069133,-2.4062940055503383,-0.5353813308687196,0.25896064713583605,0.10621005075015331,0.2823169470021958,0.21315837993869258,1.0889483875545056,0.12516824606321375,0.11845224776119585,0.3145970552929857,-2.6356974154572157,-0.022156853872273802,-0.042107126952138946,0.3439812902088255,-0.3565640543957883,-0.1370666732798806,0.24769700532947045,-0.6958473130763988,0.1979710848970319,0.4608613121028944,-3.6081196496550474,-0.008912902435510258,-0.3355411917070373,-0.40571540959637964,-0.14458805514760475,-0.3202909091198448,0.0051553980106992916,-3.324682995651315,-3.5014974859467434,-0.0322398421079342,0.2759313840183795])\n",
      "Intercept: -1.5648790479304098\n"
     ]
    },
    {
     "data": {
      "image/png": "[encoded data removed]",
      "text/plain": [
       "<Figure size 432x288 with 1 Axes>"
      ]
     },
     "metadata": {
      "needs_background": "light"
     },
     "output_type": "display_data"
    },
    {
     "name": "stdout",
     "output_type": "stream",
     "text": [
      "Training set areaUnderCurve: 0.7067127829262968\n"
     ]
    },
    {
     "data": {
      "image/png": "[encoded data removed]",
      "text/plain": [
       "<Figure size 432x288 with 1 Axes>"
      ]
     },
     "metadata": {
      "needs_background": "light"
     },
     "output_type": "display_data"
    },
    {
     "name": "stdout",
     "output_type": "stream",
     "text": [
      "Accuracy on Test Set:0.8270792261168844\n",
      "+-----+--------------------+--------------------+--------------------+----------+\n",
      "|label|            features|       rawPrediction|         probability|prediction|\n",
      "+-----+--------------------+--------------------+--------------------+----------+\n",
      "|    0|(28430,[1001,1010...|[2.60122889860653...|[0.93094062761615...|       0.0|\n",
      "|    0|(28430,[1001,1010...|[2.58148523507925...|[0.92966045344316...|       0.0|\n",
      "|    0|(28430,[1001,1010...|[2.58148523507925...|[0.92966045344316...|       0.0|\n",
      "|    0|(28430,[1001,1010...|[2.58148523507925...|[0.92966045344316...|       0.0|\n",
      "|    0|(28430,[1001,1010...|[2.58148523507925...|[0.92966045344316...|       0.0|\n",
      "|    0|(28430,[1001,1010...|[2.58148523507925...|[0.92966045344316...|       0.0|\n",
      "|    0|(28430,[1001,1010...|[2.51160054510071...|[0.92495107049290...|       0.0|\n",
      "|    0|(28430,[1001,1010...|[2.49185688157344...|[0.92356898178843...|       0.0|\n",
      "|    0|(28430,[1001,1010...|[2.49185688157344...|[0.92356898178843...|       0.0|\n",
      "|    0|(28430,[1001,1010...|[2.49185688157344...|[0.92356898178843...|       0.0|\n",
      "|    0|(28430,[1001,1010...|[2.49185688157344...|[0.92356898178843...|       0.0|\n",
      "|    0|(28430,[1001,1010...|[2.49185688157344...|[0.92356898178843...|       0.0|\n",
      "|    0|(28430,[1001,1010...|[2.49185688157344...|[0.92356898178843...|       0.0|\n",
      "|    0|(28430,[1002,1010...|[-0.4053161030336...|[0.40003576175068...|       1.0|\n",
      "|    0|(28430,[1002,1010...|[-0.4053161030336...|[0.40003576175068...|       1.0|\n",
      "|    0|(28430,[1002,1010...|[1.92233792303522...|[0.87239891571393...|       0.0|\n",
      "|    0|(28430,[1002,1010...|[1.92233792303522...|[0.87239891571393...|       0.0|\n",
      "|    0|(28430,[1002,1010...|[1.92233792303522...|[0.87239891571393...|       0.0|\n",
      "|    0|(28430,[1002,1010...|[1.92233792303522...|[0.87239891571393...|       0.0|\n",
      "|    0|(28430,[1002,1010...|[1.92233792303522...|[0.87239891571393...|       0.0|\n",
      "+-----+--------------------+--------------------+--------------------+----------+\n",
      "only showing top 20 rows\n",
      "\n",
      "+-----+----------+\n",
      "|label|prediction|\n",
      "+-----+----------+\n",
      "|    0|       0.0|\n",
      "|    0|       0.0|\n",
      "|    0|       0.0|\n",
      "|    0|       0.0|\n",
      "|    0|       0.0|\n",
      "|    0|       0.0|\n",
      "|    0|       0.0|\n",
      "|    0|       0.0|\n",
      "|    0|       0.0|\n",
      "|    0|       0.0|\n",
      "|    0|       0.0|\n",
      "|    0|       0.0|\n",
      "|    0|       0.0|\n",
      "|    0|       1.0|\n",
      "|    0|       1.0|\n",
      "|    0|       0.0|\n",
      "|    0|       0.0|\n",
      "|    0|       0.0|\n",
      "|    0|       0.0|\n",
      "|    0|       0.0|\n",
      "+-----+----------+\n",
      "only showing top 20 rows\n",
      "\n",
      "Test Area Under ROC 0.6969745148468552\n"
     ]
    }
   ],
   "source": [
    "df_selected.printSchema()\n",
    "\n",
    "# ### Data Preparation\n",
    "from pyspark.ml import Pipeline\n",
    "from pyspark.ml.feature import VectorAssembler, StringIndexer, OneHotEncoder\n",
    "\n",
    "OHE = OneHotEncoder(inputCols=[col for col in df_selected.columns if col not in [\"click\", \"C20\"]],\n",
    "                    outputCols=[col+str(\"_encoded\") for col in df_selected.columns if col not in [\"click\", \"C20\"]])\n",
    "\n",
    "# Vector Assembler\n",
    "vec_assembler = VectorAssembler(inputCols=[col+str(\"_encoded\") for col in df_selected.columns if col not in [\"click\", \"C20\"]],\n",
    "                               outputCol=\"features\")\n",
    "\n",
    "# Pipeline\n",
    "final_pipeline = Pipeline(stages=[OHE, vec_assembler])\n",
    "\n",
    "piped_data = final_pipeline.fit(df_selected).transform(df_selected)\n",
    "piped_data.show()\n",
    "\n",
    "piped_data.columns\n",
    "\n",
    "piped_dataset = piped_data.withColumnRenamed(\"click\", \"label\")\n",
    "\n",
    "# Since, we only need label and features column for model building. Hence, trimming the dataframe.\n",
    "model_data = piped_dataset.select([\"label\", \"features\"])\n",
    "model_data.show()\n",
    "\n",
    "# ## Model Building\n",
    "\n",
    "# Separating train and test data\n",
    "training, test = model_data.randomSplit([0.7, 0.3])\n",
    "\n",
    "print(\"Training Count:\" +str(training.count()))\n",
    "\n",
    "# #### Logistic Regression Model\n",
    "\n",
    "from pyspark.ml.classification import LogisticRegression\n",
    "\n",
    "lr = LogisticRegression(featuresCol=\"features\", labelCol=\"label\")\n",
    "\n",
    "model = lr.fit(training)\n",
    "\n",
    "# ### Model Evaluation\n",
    "# Printing the Coefficients and intercept for the model\n",
    "print(\"Coefficients: \" +str(model.coefficients))\n",
    "print(\"Intercept: \" +str(model.intercept))\n",
    "\n",
    "#### Plotting ROC curve\n",
    "\n",
    "import matplotlib.pyplot as plt\n",
    "%matplotlib inline\n",
    "\n",
    "trainingSummary = model.summary\n",
    "roc = trainingSummary.roc.toPandas()\n",
    "plt.plot(roc[\"FPR\"], roc[\"TPR\"])\n",
    "plt.ylabel(\"False Positive Rate\")\n",
    "plt.xlabel(\"True Positive Rate\")\n",
    "plt.title(\"ROC Curve\")\n",
    "plt.show()\n",
    "\n",
    "print(\"Training set areaUnderCurve: \" + str(trainingSummary.areaUnderROC))\n",
    "\n",
    "# Precision Recall Curve\n",
    "pr = trainingSummary.pr.toPandas()\n",
    "plt.plot(pr[\"recall\"], pr[\"precision\"])\n",
    "plt.ylabel(\"Precision\")\n",
    "plt.xlabel(\"Recall\")\n",
    "plt.show()\n",
    "\n",
    "\n",
    "# ### Accuracy\n",
    "\n",
    "summary = model.evaluate(test)\n",
    "\n",
    "print(\"Accuracy on Test Set:\" +str(summary.accuracy))\n",
    "\n",
    "output = model.transform(test)\n",
    "output.show()\n",
    "\n",
    "output.select(\"label\", \"prediction\").show()\n",
    "\n",
    "# #### ROC\n",
    "\n",
    "from pyspark.ml.evaluation import BinaryClassificationEvaluator\n",
    "\n",
    "evaluator = BinaryClassificationEvaluator()\n",
    "\n",
    "print(\"Test Area Under ROC\", evaluator.evaluate(output))"
   ]
  },
  {
   "cell_type": "markdown",
   "id": "926aa0fc",
   "metadata": {},
   "source": [
    "`Note:` We can see that the accurcy when we select all the columns in a little bit higher than the previous run"
   ]
  }
 ],
 "metadata": {
  "kernelspec": {
   "display_name": "Python 3 (ipykernel)",
   "language": "python",
   "name": "python3"
  },
  "language_info": {
   "codemirror_mode": {
    "name": "ipython",
    "version": 3
   },
   "file_extension": ".py",
   "mimetype": "text/x-python",
   "name": "python",
   "nbconvert_exporter": "python",
   "pygments_lexer": "ipython3",
   "version": "3.9.7"
  }
 },
 "nbformat": 4,
 "nbformat_minor": 5
}
