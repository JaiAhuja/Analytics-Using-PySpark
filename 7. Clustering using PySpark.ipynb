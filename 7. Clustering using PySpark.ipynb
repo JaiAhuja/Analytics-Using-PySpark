{
 "cells": [
  {
   "cell_type": "code",
   "execution_count": 1,
   "id": "98a1271c",
   "metadata": {},
   "outputs": [],
   "source": [
    "import findspark\n",
    "findspark.init()\n",
    "findspark.find()\n",
    "import pyspark\n",
    "\n",
    "import os\n",
    "import functools as reduce\n",
    "from pyspark.context import SparkContext\n",
    "from pyspark.sql import DataFrame, SQLContext, SparkSession, Window\n",
    "from pyspark.sql.functions import *\n",
    "from pyspark.sql.types import *\n",
    "\n",
    "# Importing other MLlib Libraries\n",
    "from pyspark.ml.feature import VectorAssembler\n",
    "from pyspark.ml.classification import LogisticRegression\n",
    "from pyspark.ml.evaluation import BinaryClassificationEvaluator\n",
    "\n",
    "conf = pyspark.SparkConf().setAppName('Clustering').setMaster('local')\n",
    "sc = pyspark.SparkContext(conf = conf)\n",
    "spark = SparkSession(sc)\n",
    "sqlContext = SQLContext(sc)"
   ]
  },
  {
   "cell_type": "code",
   "execution_count": 2,
   "id": "ec44a318",
   "metadata": {},
   "outputs": [],
   "source": [
    "# Importing other relevant libraries\n",
    "import matplotlib.pyplot as plt\n",
    "%matplotlib inline"
   ]
  },
  {
   "cell_type": "code",
   "execution_count": 3,
   "id": "473857a9",
   "metadata": {},
   "outputs": [
    {
     "data": {
      "text/html": [
       "\n",
       "            <div>\n",
       "                <p><b>SparkSession - in-memory</b></p>\n",
       "                \n",
       "        <div>\n",
       "            <p><b>SparkContext</b></p>\n",
       "\n",
       "            <p><a href=\"http://Jai-Ahuja:4040\">Spark UI</a></p>\n",
       "\n",
       "            <dl>\n",
       "              <dt>Version</dt>\n",
       "                <dd><code>v3.1.2</code></dd>\n",
       "              <dt>Master</dt>\n",
       "                <dd><code>local</code></dd>\n",
       "              <dt>AppName</dt>\n",
       "                <dd><code>Clustering</code></dd>\n",
       "            </dl>\n",
       "        </div>\n",
       "        \n",
       "            </div>\n",
       "        "
      ],
      "text/plain": [
       "<pyspark.sql.session.SparkSession at 0x1bbe6848610>"
      ]
     },
     "execution_count": 3,
     "metadata": {},
     "output_type": "execute_result"
    }
   ],
   "source": [
    "spark"
   ]
  },
  {
   "cell_type": "code",
   "execution_count": null,
   "id": "51fa73da",
   "metadata": {},
   "outputs": [],
   "source": [
    "# Dataset Link: https://github.com/JaiAhuja/Datasets/blob/main/Analytics%20Using%20PySpark/music_data.csv"
   ]
  },
  {
   "cell_type": "code",
   "execution_count": 4,
   "id": "c1bf77a3",
   "metadata": {},
   "outputs": [
    {
     "name": "stdout",
     "output_type": "stream",
     "text": [
      "+--------------------+--------------------+--------------------+-----+\n",
      "|              userid|            artistid|         artist_name|plays|\n",
      "+--------------------+--------------------+--------------------+-----+\n",
      "|00000c289a1829a80...|3bd73256-3905-4f3...|     betty blowtorch| 2137|\n",
      "|00000c289a1829a80...|f2fb0ff0-5679-42e...|           die Ärzte| 1099|\n",
      "|00000c289a1829a80...|b3ae82c2-e60b-455...|   melissa etheridge|  897|\n",
      "|00000c289a1829a80...|3d6bbeb7-f90e-4d1...|           elvenking|  717|\n",
      "|00000c289a1829a80...|bbd2ffd7-17f4-450...|juliette & the licks|  706|\n",
      "|00000c289a1829a80...|8bfac288-ccc5-448...|red hot chili pep...|  691|\n",
      "|00000c289a1829a80...|6531c8b1-76ea-414...|              magica|  545|\n",
      "|00000c289a1829a80...|21f3573f-10cf-44b...|the black dahlia ...|  507|\n",
      "|00000c289a1829a80...|c5db90c4-580d-4f3...|         the murmurs|  424|\n",
      "|00000c289a1829a80...|0639533a-0402-40b...|          lunachicks|  403|\n",
      "+--------------------+--------------------+--------------------+-----+\n",
      "only showing top 10 rows\n",
      "\n"
     ]
    }
   ],
   "source": [
    "# Reading the dataset\n",
    "df = spark.read.csv(r\"music_data.csv\", header=True, inferSchema=True)\n",
    "df.show(10)"
   ]
  },
  {
   "cell_type": "code",
   "execution_count": 5,
   "id": "a92454a2",
   "metadata": {},
   "outputs": [
    {
     "data": {
      "text/plain": [
       "999"
      ]
     },
     "execution_count": 5,
     "metadata": {},
     "output_type": "execute_result"
    }
   ],
   "source": [
    "# Checking the count\n",
    "df.count()"
   ]
  },
  {
   "cell_type": "code",
   "execution_count": 6,
   "id": "a7f0870e",
   "metadata": {},
   "outputs": [
    {
     "name": "stdout",
     "output_type": "stream",
     "text": [
      "+--------------------+-----+\n",
      "|         artist_name|plays|\n",
      "+--------------------+-----+\n",
      "|     betty blowtorch| 2137|\n",
      "|           die Ärzte| 1099|\n",
      "|   melissa etheridge|  897|\n",
      "|           elvenking|  717|\n",
      "|juliette & the licks|  706|\n",
      "|red hot chili pep...|  691|\n",
      "|              magica|  545|\n",
      "|the black dahlia ...|  507|\n",
      "|         the murmurs|  424|\n",
      "|          lunachicks|  403|\n",
      "|    walls of jericho|  393|\n",
      "|      letzte instanz|  387|\n",
      "|           goldfrapp|  361|\n",
      "|          horrorpops|  358|\n",
      "|        the butchies|  329|\n",
      "|       jack off jill|  316|\n",
      "|    babes in toyland|  310|\n",
      "|    dropkick murphys|  302|\n",
      "|       all:my:faults|  288|\n",
      "|            le tigre|  281|\n",
      "+--------------------+-----+\n",
      "only showing top 20 rows\n",
      "\n"
     ]
    }
   ],
   "source": [
    "# Selecting only artist since, we want artist clusters\n",
    "df_artist = df.select([\"artist_name\", \"plays\"])\n",
    "df_artist.show()"
   ]
  },
  {
   "cell_type": "code",
   "execution_count": 7,
   "id": "303c5f2d",
   "metadata": {},
   "outputs": [
    {
     "name": "stdout",
     "output_type": "stream",
     "text": [
      "+----------------+----------+\n",
      "|     artist_name|sum(plays)|\n",
      "+----------------+----------+\n",
      "|        le tigre|       281|\n",
      "|              l7|       135|\n",
      "|             fog|       132|\n",
      "|           hanna|         4|\n",
      "| raymond & maria|       737|\n",
      "|       amplifier|       175|\n",
      "|     the beatles|      1041|\n",
      "|      television|         7|\n",
      "|    steel attack|       551|\n",
      "|john jacob niles|        57|\n",
      "+----------------+----------+\n",
      "only showing top 10 rows\n",
      "\n"
     ]
    }
   ],
   "source": [
    "# Since, there can be multiple users listening to the same artist. Hence, grouping\n",
    "artist_aggr = df_artist.groupby(\"artist_name\").sum()\n",
    "artist_aggr.show(10)"
   ]
  },
  {
   "cell_type": "code",
   "execution_count": 8,
   "id": "427321e0",
   "metadata": {},
   "outputs": [
    {
     "data": {
      "text/plain": [
       "999"
      ]
     },
     "execution_count": 8,
     "metadata": {},
     "output_type": "execute_result"
    }
   ],
   "source": [
    "# Checking the count after aggregating\n",
    "df.count()"
   ]
  },
  {
   "cell_type": "code",
   "execution_count": 9,
   "id": "66e5ab94",
   "metadata": {},
   "outputs": [
    {
     "data": {
      "text/plain": [
       "['artist_name', 'sum(plays)']"
      ]
     },
     "execution_count": 9,
     "metadata": {},
     "output_type": "execute_result"
    }
   ],
   "source": [
    "artist_aggr.columns"
   ]
  },
  {
   "cell_type": "code",
   "execution_count": 10,
   "id": "885d3b97",
   "metadata": {},
   "outputs": [
    {
     "name": "stdout",
     "output_type": "stream",
     "text": [
      "+----------+\n",
      "|sum(plays)|\n",
      "+----------+\n",
      "|       281|\n",
      "|       135|\n",
      "|       132|\n",
      "|         4|\n",
      "|       737|\n",
      "|       175|\n",
      "|      1041|\n",
      "|         7|\n",
      "|       551|\n",
      "|        57|\n",
      "|        95|\n",
      "|        32|\n",
      "|       200|\n",
      "|       254|\n",
      "|       313|\n",
      "|       199|\n",
      "|        49|\n",
      "|        16|\n",
      "|       171|\n",
      "|        93|\n",
      "+----------+\n",
      "only showing top 20 rows\n",
      "\n"
     ]
    }
   ],
   "source": [
    "artist_aggr.select(\"sum(plays)\").show()"
   ]
  },
  {
   "cell_type": "code",
   "execution_count": 11,
   "id": "5cf3f43d",
   "metadata": {},
   "outputs": [],
   "source": [
    "# Renaming the column\n",
    "artist_data = artist_aggr.withColumnRenamed(\"sum(plays)\", \"plays_sum\")"
   ]
  },
  {
   "cell_type": "code",
   "execution_count": 12,
   "id": "fe65af07",
   "metadata": {},
   "outputs": [
    {
     "name": "stdout",
     "output_type": "stream",
     "text": [
      "+----------------+---------+\n",
      "|     artist_name|plays_sum|\n",
      "+----------------+---------+\n",
      "|        le tigre|      281|\n",
      "|              l7|      135|\n",
      "|             fog|      132|\n",
      "|           hanna|        4|\n",
      "| raymond & maria|      737|\n",
      "|       amplifier|      175|\n",
      "|     the beatles|     1041|\n",
      "|      television|        7|\n",
      "|    steel attack|      551|\n",
      "|john jacob niles|       57|\n",
      "+----------------+---------+\n",
      "only showing top 10 rows\n",
      "\n"
     ]
    }
   ],
   "source": [
    "artist_data.show(10)"
   ]
  },
  {
   "cell_type": "code",
   "execution_count": 13,
   "id": "8d9da2ad",
   "metadata": {},
   "outputs": [],
   "source": [
    "# VectorAssembler\n",
    "assembler = VectorAssembler(inputCols=[\"plays_sum\"], outputCol=\"features\")"
   ]
  },
  {
   "cell_type": "code",
   "execution_count": 14,
   "id": "1f954094",
   "metadata": {},
   "outputs": [
    {
     "name": "stdout",
     "output_type": "stream",
     "text": [
      "+----------------+---------+--------+\n",
      "|     artist_name|plays_sum|features|\n",
      "+----------------+---------+--------+\n",
      "|        le tigre|      281| [281.0]|\n",
      "|              l7|      135| [135.0]|\n",
      "|             fog|      132| [132.0]|\n",
      "|           hanna|        4|   [4.0]|\n",
      "| raymond & maria|      737| [737.0]|\n",
      "|       amplifier|      175| [175.0]|\n",
      "|     the beatles|     1041|[1041.0]|\n",
      "|      television|        7|   [7.0]|\n",
      "|    steel attack|      551| [551.0]|\n",
      "|john jacob niles|       57|  [57.0]|\n",
      "+----------------+---------+--------+\n",
      "only showing top 10 rows\n",
      "\n"
     ]
    }
   ],
   "source": [
    "# Transforming the data\n",
    "model_data = assembler.transform(artist_data)\n",
    "model_data.show(10)"
   ]
  },
  {
   "cell_type": "markdown",
   "id": "1c2880a0",
   "metadata": {},
   "source": [
    "### Model Building"
   ]
  },
  {
   "cell_type": "markdown",
   "id": "56138b09",
   "metadata": {},
   "source": [
    "#### KMeans Clustering"
   ]
  },
  {
   "cell_type": "code",
   "execution_count": 15,
   "id": "926bfda8",
   "metadata": {},
   "outputs": [],
   "source": [
    "from pyspark.ml.clustering import KMeans\n",
    "from pyspark.ml.evaluation import ClusteringEvaluator"
   ]
  },
  {
   "cell_type": "code",
   "execution_count": 16,
   "id": "539eda08",
   "metadata": {},
   "outputs": [],
   "source": [
    "kmeans = KMeans(k= 7, seed= 2)"
   ]
  },
  {
   "cell_type": "code",
   "execution_count": 17,
   "id": "91cc4921",
   "metadata": {},
   "outputs": [],
   "source": [
    "model = kmeans.fit(model_data.select(\"features\"))"
   ]
  },
  {
   "cell_type": "code",
   "execution_count": 18,
   "id": "5b0dc969",
   "metadata": {},
   "outputs": [],
   "source": [
    "# Make predictions\n",
    "output = model.transform(model_data)"
   ]
  },
  {
   "cell_type": "code",
   "execution_count": 19,
   "id": "a0aba581",
   "metadata": {},
   "outputs": [
    {
     "name": "stdout",
     "output_type": "stream",
     "text": [
      "+----------------+---------+--------+----------+\n",
      "|     artist_name|plays_sum|features|prediction|\n",
      "+----------------+---------+--------+----------+\n",
      "|        le tigre|      281| [281.0]|         0|\n",
      "|              l7|      135| [135.0]|         0|\n",
      "|             fog|      132| [132.0]|         0|\n",
      "|           hanna|        4|   [4.0]|         0|\n",
      "| raymond & maria|      737| [737.0]|         4|\n",
      "|       amplifier|      175| [175.0]|         0|\n",
      "|     the beatles|     1041|[1041.0]|         6|\n",
      "|      television|        7|   [7.0]|         0|\n",
      "|    steel attack|      551| [551.0]|         4|\n",
      "|john jacob niles|       57|  [57.0]|         0|\n",
      "+----------------+---------+--------+----------+\n",
      "only showing top 10 rows\n",
      "\n"
     ]
    }
   ],
   "source": [
    "output.show(10)"
   ]
  },
  {
   "cell_type": "code",
   "execution_count": 20,
   "id": "7e9303df",
   "metadata": {},
   "outputs": [],
   "source": [
    "# Creating Temp View for SQL Queries\n",
    "output.createOrReplaceTempView(\"output_view\")"
   ]
  },
  {
   "cell_type": "code",
   "execution_count": 21,
   "id": "d264a7fb",
   "metadata": {},
   "outputs": [
    {
     "name": "stdout",
     "output_type": "stream",
     "text": [
      "+--------------------+----------+\n",
      "|         artist_name|prediction|\n",
      "+--------------------+----------+\n",
      "|the most serene r...|         1|\n",
      "|     nine inch nails|         1|\n",
      "|               stars|         2|\n",
      "| broken social scene|         2|\n",
      "|          have heart|         2|\n",
      "|         bright eyes|         2|\n",
      "|      arctic monkeys|         2|\n",
      "|     luminous orange|         2|\n",
      "|               boris|         2|\n",
      "|coaltar of the de...|         5|\n",
      "|     polar bear club|         5|\n",
      "|      the libertines|         5|\n",
      "|           blink-182|         5|\n",
      "|            coldplay|         5|\n",
      "|death from above ...|         5|\n",
      "|            owl city|         5|\n",
      "|           radiohead|         3|\n",
      "|      okkervil river|         3|\n",
      "|        jim sturgess|         3|\n",
      "|david & the citizens|         3|\n",
      "|            deerhoof|         3|\n",
      "|fear before the m...|         3|\n",
      "|    breathe carolina|         3|\n",
      "|         arcade fire|         3|\n",
      "|     betty blowtorch|         3|\n",
      "|            mstrkrft|         3|\n",
      "|        judas priest|         3|\n",
      "|         the strokes|         3|\n",
      "|        grave digger|         3|\n",
      "|     the hold steady|         3|\n",
      "|  the honorary title|         3|\n",
      "|        running wild|         3|\n",
      "|                kent|         3|\n",
      "|         cancer bats|         3|\n",
      "| my bloody valentine|         6|\n",
      "|                mgmt|         6|\n",
      "|           pj harvey|         6|\n",
      "|            the cure|         6|\n",
      "|   animal collective|         6|\n",
      "|               queen|         6|\n",
      "|     michio kurihara|         6|\n",
      "|         primal fear|         6|\n",
      "|         iron maiden|         6|\n",
      "|    boards of canada|         6|\n",
      "| death cab for cutie|         6|\n",
      "|              mogwai|         6|\n",
      "|the secret handshake|         6|\n",
      "| heavy heavy low low|         6|\n",
      "|        hot hot heat|         6|\n",
      "|              dub fx|         6|\n",
      "|           hadouken!|         6|\n",
      "|         the wombats|         6|\n",
      "|              ai aso|         6|\n",
      "|             paragon|         6|\n",
      "|           sigur rós|         6|\n",
      "|antony and the jo...|         6|\n",
      "|        lostprophets|         6|\n",
      "|            four tet|         6|\n",
      "|           die Ärzte|         6|\n",
      "|             justice|         6|\n",
      "|       dream theater|         6|\n",
      "|         amon amarth|         6|\n",
      "|       box car racer|         6|\n",
      "|         snow patrol|         6|\n",
      "|          amon tobin|         6|\n",
      "|     wir sind helden|         6|\n",
      "|         the beatles|         6|\n",
      "|          iced earth|         6|\n",
      "|boris with michio...|         6|\n",
      "|         lamb of god|         6|\n",
      "|              u.d.o.|         6|\n",
      "|      tegan and sara|         6|\n",
      "|               uffie|         6|\n",
      "|the last shadow p...|         6|\n",
      "|          arch enemy|         6|\n",
      "|         annihilator|         6|\n",
      "|      thompson twins|         6|\n",
      "|   the rocket summer|         6|\n",
      "|   children of bodom|         6|\n",
      "|   melissa etheridge|         6|\n",
      "|              exodus|         6|\n",
      "|          current 93|         4|\n",
      "|nick cave and the...|         4|\n",
      "|        patrick wolf|         4|\n",
      "|             säkert!|         4|\n",
      "|             exciter|         4|\n",
      "|          pink floyd|         4|\n",
      "| simian mobile disco|         4|\n",
      "|         norah jones|         4|\n",
      "|                tool|         4|\n",
      "|         soundgarden|         4|\n",
      "|             stam1na|         4|\n",
      "|              clutch|         4|\n",
      "|   angels & airwaves|         4|\n",
      "|       detektivbyrån|         4|\n",
      "|     lars winnerbäck|         4|\n",
      "|         white denim|         4|\n",
      "|          boys noize|         4|\n",
      "|               ac/dc|         4|\n",
      "|     raymond & maria|         4|\n",
      "+--------------------+----------+\n",
      "only showing top 100 rows\n",
      "\n"
     ]
    }
   ],
   "source": [
    "spark.sql(\"\"\"\n",
    "select artist_name, prediction\n",
    "from output_view\n",
    "order by plays_sum desc\n",
    "\"\"\").show(100)"
   ]
  },
  {
   "cell_type": "code",
   "execution_count": 22,
   "id": "cff969b3",
   "metadata": {},
   "outputs": [],
   "source": [
    "# Evaluate clustering by computing Silhouette score\n",
    "evaluator = ClusteringEvaluator()"
   ]
  },
  {
   "cell_type": "code",
   "execution_count": 23,
   "id": "e9e33c74",
   "metadata": {},
   "outputs": [
    {
     "name": "stdout",
     "output_type": "stream",
     "text": [
      "Silhouette with squared euclidean distance = 0.842623341681741\n",
      "Cluster Centers: \n",
      "[93.67993367]\n",
      "[11927.5]\n",
      "[5832.14285714]\n",
      "[2157.11111111]\n",
      "[517.96531792]\n",
      "[3760.14285714]\n",
      "[1204.91489362]\n"
     ]
    }
   ],
   "source": [
    "silhouette = evaluator.evaluate(output)\n",
    "print(\"Silhouette with squared euclidean distance = \" + str(silhouette))\n",
    "\n",
    "# Shows the result.\n",
    "centers = model.clusterCenters()\n",
    "print(\"Cluster Centers: \")\n",
    "for center in centers:\n",
    "    print(center)"
   ]
  },
  {
   "cell_type": "code",
   "execution_count": 24,
   "id": "24b3d663",
   "metadata": {},
   "outputs": [
    {
     "name": "stdout",
     "output_type": "stream",
     "text": [
      "+----------------+---------+--------+\n",
      "|     artist_name|plays_sum|features|\n",
      "+----------------+---------+--------+\n",
      "|        le tigre|      281| [281.0]|\n",
      "|              l7|      135| [135.0]|\n",
      "|             fog|      132| [132.0]|\n",
      "|           hanna|        4|   [4.0]|\n",
      "| raymond & maria|      737| [737.0]|\n",
      "|       amplifier|      175| [175.0]|\n",
      "|     the beatles|     1041|[1041.0]|\n",
      "|      television|        7|   [7.0]|\n",
      "|    steel attack|      551| [551.0]|\n",
      "|john jacob niles|       57|  [57.0]|\n",
      "|     teräsbetoni|       95|  [95.0]|\n",
      "|       lil wayne|       32|  [32.0]|\n",
      "|  gnarls barkley|      200| [200.0]|\n",
      "| pedro abrunhosa|      254| [254.0]|\n",
      "|      hoobastank|      313| [313.0]|\n",
      "|       goon moon|      199| [199.0]|\n",
      "|    sweet coffee|       49|  [49.0]|\n",
      "|         erasure|       16|  [16.0]|\n",
      "|             mew|      171| [171.0]|\n",
      "|     dragonforce|       93|  [93.0]|\n",
      "+----------------+---------+--------+\n",
      "only showing top 20 rows\n",
      "\n"
     ]
    }
   ],
   "source": [
    "model_data.show()"
   ]
  },
  {
   "cell_type": "code",
   "execution_count": 25,
   "id": "23fc338c",
   "metadata": {},
   "outputs": [
    {
     "name": "stdout",
     "output_type": "stream",
     "text": [
      "K:3\n",
      "Silhouette Score: 0.956938295694209\n",
      "K:4\n",
      "Silhouette Score: 0.8825556388054627\n",
      "K:5\n",
      "Silhouette Score: 0.8483297565283625\n",
      "K:6\n",
      "Silhouette Score: 0.8295508175760632\n",
      "K:7\n",
      "Silhouette Score: 0.8448509767195076\n",
      "K:8\n",
      "Silhouette Score: 0.7958240826739195\n",
      "K:9\n",
      "Silhouette Score: 0.7611521210900387\n",
      "K:10\n",
      "Silhouette Score: 0.8022474502291955\n"
     ]
    }
   ],
   "source": [
    "# Applying Elbow Method to check if we have optimum number of clusters\n",
    "\n",
    "silhouette_score = []\n",
    "\n",
    "evaluator = ClusteringEvaluator(predictionCol=\"prediction\", featuresCol=\"features\", \n",
    "                                metricName=\"silhouette\", distanceMeasure=\"squaredEuclidean\")\n",
    "\n",
    "for k_num in range(3,11):\n",
    "    print(\"K:\" + str(k_num))\n",
    "    \n",
    "    KMeans_algo= KMeans(featuresCol=\"features\", k= k_num, seed= 1)\n",
    "    \n",
    "    KMeans_fit= KMeans_algo.fit(model_data)\n",
    "    \n",
    "    output = KMeans_fit.transform(model_data)\n",
    "    \n",
    "    # Score\n",
    "    score = evaluator.evaluate(output)\n",
    "    \n",
    "    silhouette_score.append(score)\n",
    "    \n",
    "    print(\"Silhouette Score: \"+str(score))"
   ]
  },
  {
   "cell_type": "code",
   "execution_count": 27,
   "id": "e0f0e37f",
   "metadata": {},
   "outputs": [
    {
     "data": {
      "text/plain": [
       "Text(0, 0.5, 'cost')"
      ]
     },
     "execution_count": 27,
     "metadata": {},
     "output_type": "execute_result"
    },
    {
     "data": {
      "image/png": "[encoded data removed]",
      "text/plain": [
       "<Figure size 576x432 with 1 Axes>"
      ]
     },
     "metadata": {
      "needs_background": "light"
     },
     "output_type": "display_data"
    }
   ],
   "source": [
    "#Visualizing the silhouette scores in a plot\n",
    "import matplotlib.pyplot as plt\n",
    "fig, ax = plt.subplots(1,1, figsize =(8,6))\n",
    "ax.plot(range(3,11),silhouette_score)\n",
    "ax.set_xlabel(\"k\")\n",
    "ax.set_ylabel(\"cost\")"
   ]
  }
 ],
 "metadata": {
  "kernelspec": {
   "display_name": "Python 3 (ipykernel)",
   "language": "python",
   "name": "python3"
  },
  "language_info": {
   "codemirror_mode": {
    "name": "ipython",
    "version": 3
   },
   "file_extension": ".py",
   "mimetype": "text/x-python",
   "name": "python",
   "nbconvert_exporter": "python",
   "pygments_lexer": "ipython3",
   "version": "3.9.7"
  }
 },
 "nbformat": 4,
 "nbformat_minor": 5
}
